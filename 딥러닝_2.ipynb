{
  "nbformat": 4,
  "nbformat_minor": 0,
  "metadata": {
    "colab": {
      "name": "딥러닝 2",
      "provenance": [],
      "collapsed_sections": [],
      "toc_visible": true,
      "authorship_tag": "ABX9TyOb0l14ZnHmsW6wRWnx4r1f",
      "include_colab_link": true
    },
    "kernelspec": {
      "name": "python3",
      "display_name": "Python 3"
    },
    "language_info": {
      "name": "python"
    }
  },
  "cells": [
    {
      "cell_type": "markdown",
      "metadata": {
        "id": "view-in-github",
        "colab_type": "text"
      },
      "source": [
        "<a href=\"https://colab.research.google.com/github/ringolove/daegu-ai-2th-dl1/blob/main/%EB%94%A5%EB%9F%AC%EB%8B%9D_2.ipynb\" target=\"_parent\"><img src=\"https://colab.research.google.com/assets/colab-badge.svg\" alt=\"Open In Colab\"/></a>"
      ]
    },
    {
      "cell_type": "markdown",
      "metadata": {
        "id": "oXNdWlsUXAB4"
      },
      "source": [
        "## 판다스로 데이터 확인\n",
        "- 레모네이드: https://raw.githubusercontent.com/blackdew/ml-tensorflow/master/data/csv/lemonade.csv\n",
        "- 보스턴: https://raw.githubusercontent.com/blackdew/ml-tensorflow/master/data/csv/boston.csv\n",
        "- 아이리스: https://raw.githubusercontent.com/blackdew/ml-tensorflow/master/data/csv/iris.csv"
      ]
    },
    {
      "cell_type": "code",
      "metadata": {
        "colab": {
          "base_uri": "https://localhost:8080/",
          "height": 224
        },
        "id": "LAn2peHVXBCB",
        "outputId": "dc443312-a3c3-4ce9-a3be-70a181b1834e"
      },
      "source": [
        "import pandas as pd\n",
        "\n",
        "path = \"https://raw.githubusercontent.com/blackdew/ml-tensorflow/master/data/csv/lemonade.csv\"\n",
        "lemon = pd.read_csv(path)\n",
        "print(lemon.shape)\n",
        "lemon.head()"
      ],
      "execution_count": null,
      "outputs": [
        {
          "output_type": "stream",
          "name": "stdout",
          "text": [
            "(6, 2)\n"
          ]
        },
        {
          "output_type": "execute_result",
          "data": {
            "text/html": [
              "<div>\n",
              "<style scoped>\n",
              "    .dataframe tbody tr th:only-of-type {\n",
              "        vertical-align: middle;\n",
              "    }\n",
              "\n",
              "    .dataframe tbody tr th {\n",
              "        vertical-align: top;\n",
              "    }\n",
              "\n",
              "    .dataframe thead th {\n",
              "        text-align: right;\n",
              "    }\n",
              "</style>\n",
              "<table border=\"1\" class=\"dataframe\">\n",
              "  <thead>\n",
              "    <tr style=\"text-align: right;\">\n",
              "      <th></th>\n",
              "      <th>온도</th>\n",
              "      <th>판매량</th>\n",
              "    </tr>\n",
              "  </thead>\n",
              "  <tbody>\n",
              "    <tr>\n",
              "      <th>0</th>\n",
              "      <td>20</td>\n",
              "      <td>40</td>\n",
              "    </tr>\n",
              "    <tr>\n",
              "      <th>1</th>\n",
              "      <td>21</td>\n",
              "      <td>42</td>\n",
              "    </tr>\n",
              "    <tr>\n",
              "      <th>2</th>\n",
              "      <td>22</td>\n",
              "      <td>44</td>\n",
              "    </tr>\n",
              "    <tr>\n",
              "      <th>3</th>\n",
              "      <td>23</td>\n",
              "      <td>46</td>\n",
              "    </tr>\n",
              "    <tr>\n",
              "      <th>4</th>\n",
              "      <td>24</td>\n",
              "      <td>48</td>\n",
              "    </tr>\n",
              "  </tbody>\n",
              "</table>\n",
              "</div>"
            ],
            "text/plain": [
              "   온도  판매량\n",
              "0  20   40\n",
              "1  21   42\n",
              "2  22   44\n",
              "3  23   46\n",
              "4  24   48"
            ]
          },
          "metadata": {},
          "execution_count": 25
        }
      ]
    },
    {
      "cell_type": "code",
      "metadata": {
        "colab": {
          "base_uri": "https://localhost:8080/"
        },
        "id": "Lqdqa2hTXuZw",
        "outputId": "ab4c44e0-7725-4f4e-fbe9-31ab00eeebb4"
      },
      "source": [
        "독립 = lemon[['온도']]\n",
        "종속 = lemon[['판매량']]\n",
        "print(독립.shape, 종속.shape)\n",
        "print(독립.head(2))\n",
        "print(종속.head(2))"
      ],
      "execution_count": null,
      "outputs": [
        {
          "output_type": "stream",
          "name": "stdout",
          "text": [
            "(6, 1) (6, 1)\n",
            "   온도\n",
            "0  20\n",
            "1  21\n",
            "   판매량\n",
            "0   40\n",
            "1   42\n"
          ]
        }
      ]
    },
    {
      "cell_type": "code",
      "metadata": {
        "colab": {
          "base_uri": "https://localhost:8080/",
          "height": 224
        },
        "id": "N6L0R1UtX0k-",
        "outputId": "688b3021-c11a-407c-cb12-c4aae6014694"
      },
      "source": [
        "import pandas as pd\n",
        "\n",
        "path = \"https://raw.githubusercontent.com/blackdew/ml-tensorflow/master/data/csv/boston.csv\"\n",
        "boston = pd.read_csv(path)\n",
        "print(boston.shape)\n",
        "boston.head()"
      ],
      "execution_count": null,
      "outputs": [
        {
          "output_type": "stream",
          "name": "stdout",
          "text": [
            "(506, 14)\n"
          ]
        },
        {
          "output_type": "execute_result",
          "data": {
            "text/html": [
              "<div>\n",
              "<style scoped>\n",
              "    .dataframe tbody tr th:only-of-type {\n",
              "        vertical-align: middle;\n",
              "    }\n",
              "\n",
              "    .dataframe tbody tr th {\n",
              "        vertical-align: top;\n",
              "    }\n",
              "\n",
              "    .dataframe thead th {\n",
              "        text-align: right;\n",
              "    }\n",
              "</style>\n",
              "<table border=\"1\" class=\"dataframe\">\n",
              "  <thead>\n",
              "    <tr style=\"text-align: right;\">\n",
              "      <th></th>\n",
              "      <th>crim</th>\n",
              "      <th>zn</th>\n",
              "      <th>indus</th>\n",
              "      <th>chas</th>\n",
              "      <th>nox</th>\n",
              "      <th>rm</th>\n",
              "      <th>age</th>\n",
              "      <th>dis</th>\n",
              "      <th>rad</th>\n",
              "      <th>tax</th>\n",
              "      <th>ptratio</th>\n",
              "      <th>b</th>\n",
              "      <th>lstat</th>\n",
              "      <th>medv</th>\n",
              "    </tr>\n",
              "  </thead>\n",
              "  <tbody>\n",
              "    <tr>\n",
              "      <th>0</th>\n",
              "      <td>0.00632</td>\n",
              "      <td>18.0</td>\n",
              "      <td>2.31</td>\n",
              "      <td>0</td>\n",
              "      <td>0.538</td>\n",
              "      <td>6.575</td>\n",
              "      <td>65.2</td>\n",
              "      <td>4.0900</td>\n",
              "      <td>1</td>\n",
              "      <td>296</td>\n",
              "      <td>15.3</td>\n",
              "      <td>396.90</td>\n",
              "      <td>4.98</td>\n",
              "      <td>24.0</td>\n",
              "    </tr>\n",
              "    <tr>\n",
              "      <th>1</th>\n",
              "      <td>0.02731</td>\n",
              "      <td>0.0</td>\n",
              "      <td>7.07</td>\n",
              "      <td>0</td>\n",
              "      <td>0.469</td>\n",
              "      <td>6.421</td>\n",
              "      <td>78.9</td>\n",
              "      <td>4.9671</td>\n",
              "      <td>2</td>\n",
              "      <td>242</td>\n",
              "      <td>17.8</td>\n",
              "      <td>396.90</td>\n",
              "      <td>9.14</td>\n",
              "      <td>21.6</td>\n",
              "    </tr>\n",
              "    <tr>\n",
              "      <th>2</th>\n",
              "      <td>0.02729</td>\n",
              "      <td>0.0</td>\n",
              "      <td>7.07</td>\n",
              "      <td>0</td>\n",
              "      <td>0.469</td>\n",
              "      <td>7.185</td>\n",
              "      <td>61.1</td>\n",
              "      <td>4.9671</td>\n",
              "      <td>2</td>\n",
              "      <td>242</td>\n",
              "      <td>17.8</td>\n",
              "      <td>392.83</td>\n",
              "      <td>4.03</td>\n",
              "      <td>34.7</td>\n",
              "    </tr>\n",
              "    <tr>\n",
              "      <th>3</th>\n",
              "      <td>0.03237</td>\n",
              "      <td>0.0</td>\n",
              "      <td>2.18</td>\n",
              "      <td>0</td>\n",
              "      <td>0.458</td>\n",
              "      <td>6.998</td>\n",
              "      <td>45.8</td>\n",
              "      <td>6.0622</td>\n",
              "      <td>3</td>\n",
              "      <td>222</td>\n",
              "      <td>18.7</td>\n",
              "      <td>394.63</td>\n",
              "      <td>2.94</td>\n",
              "      <td>33.4</td>\n",
              "    </tr>\n",
              "    <tr>\n",
              "      <th>4</th>\n",
              "      <td>0.06905</td>\n",
              "      <td>0.0</td>\n",
              "      <td>2.18</td>\n",
              "      <td>0</td>\n",
              "      <td>0.458</td>\n",
              "      <td>7.147</td>\n",
              "      <td>54.2</td>\n",
              "      <td>6.0622</td>\n",
              "      <td>3</td>\n",
              "      <td>222</td>\n",
              "      <td>18.7</td>\n",
              "      <td>396.90</td>\n",
              "      <td>5.33</td>\n",
              "      <td>36.2</td>\n",
              "    </tr>\n",
              "  </tbody>\n",
              "</table>\n",
              "</div>"
            ],
            "text/plain": [
              "      crim    zn  indus  chas    nox  ...  tax  ptratio       b  lstat  medv\n",
              "0  0.00632  18.0   2.31     0  0.538  ...  296     15.3  396.90   4.98  24.0\n",
              "1  0.02731   0.0   7.07     0  0.469  ...  242     17.8  396.90   9.14  21.6\n",
              "2  0.02729   0.0   7.07     0  0.469  ...  242     17.8  392.83   4.03  34.7\n",
              "3  0.03237   0.0   2.18     0  0.458  ...  222     18.7  394.63   2.94  33.4\n",
              "4  0.06905   0.0   2.18     0  0.458  ...  222     18.7  396.90   5.33  36.2\n",
              "\n",
              "[5 rows x 14 columns]"
            ]
          },
          "metadata": {},
          "execution_count": 27
        }
      ]
    },
    {
      "cell_type": "code",
      "metadata": {
        "colab": {
          "base_uri": "https://localhost:8080/"
        },
        "id": "Wlx_mu61X2d1",
        "outputId": "37f8ec00-fdb6-4209-f301-cef22b4caa38"
      },
      "source": [
        "print(boston.columns)\n",
        "독립 = boston[['crim', 'zn', 'indus', 'chas', 'nox', 'rm', 'age', 'dis', 'rad', \n",
        "               'tax', 'ptratio', 'b', 'lstat']]\n",
        "종속 = boston[['medv']]\n",
        "print(독립.shape, 종속.shape)\n",
        "print(독립.head(2))\n",
        "print(종속.head(2))"
      ],
      "execution_count": null,
      "outputs": [
        {
          "output_type": "stream",
          "name": "stdout",
          "text": [
            "Index(['crim', 'zn', 'indus', 'chas', 'nox', 'rm', 'age', 'dis', 'rad', 'tax',\n",
            "       'ptratio', 'b', 'lstat', 'medv'],\n",
            "      dtype='object')\n",
            "(506, 13) (506, 1)\n",
            "      crim    zn  indus  chas    nox  ...  rad  tax  ptratio      b  lstat\n",
            "0  0.00632  18.0   2.31     0  0.538  ...    1  296     15.3  396.9   4.98\n",
            "1  0.02731   0.0   7.07     0  0.469  ...    2  242     17.8  396.9   9.14\n",
            "\n",
            "[2 rows x 13 columns]\n",
            "   medv\n",
            "0  24.0\n",
            "1  21.6\n"
          ]
        }
      ]
    },
    {
      "cell_type": "code",
      "metadata": {
        "colab": {
          "base_uri": "https://localhost:8080/",
          "height": 224
        },
        "id": "lr-WplcsX5KP",
        "outputId": "1e604850-c225-4469-c530-6790f183a520"
      },
      "source": [
        "import pandas as pd\n",
        "\n",
        "path = \"https://raw.githubusercontent.com/blackdew/ml-tensorflow/master/data/csv/iris.csv\"\n",
        "iris = pd.read_csv(path)\n",
        "print(iris.shape)\n",
        "iris.head()"
      ],
      "execution_count": null,
      "outputs": [
        {
          "output_type": "stream",
          "name": "stdout",
          "text": [
            "(150, 5)\n"
          ]
        },
        {
          "output_type": "execute_result",
          "data": {
            "text/html": [
              "<div>\n",
              "<style scoped>\n",
              "    .dataframe tbody tr th:only-of-type {\n",
              "        vertical-align: middle;\n",
              "    }\n",
              "\n",
              "    .dataframe tbody tr th {\n",
              "        vertical-align: top;\n",
              "    }\n",
              "\n",
              "    .dataframe thead th {\n",
              "        text-align: right;\n",
              "    }\n",
              "</style>\n",
              "<table border=\"1\" class=\"dataframe\">\n",
              "  <thead>\n",
              "    <tr style=\"text-align: right;\">\n",
              "      <th></th>\n",
              "      <th>꽃잎길이</th>\n",
              "      <th>꽃잎폭</th>\n",
              "      <th>꽃받침길이</th>\n",
              "      <th>꽃받침폭</th>\n",
              "      <th>품종</th>\n",
              "    </tr>\n",
              "  </thead>\n",
              "  <tbody>\n",
              "    <tr>\n",
              "      <th>0</th>\n",
              "      <td>5.1</td>\n",
              "      <td>3.5</td>\n",
              "      <td>1.4</td>\n",
              "      <td>0.2</td>\n",
              "      <td>setosa</td>\n",
              "    </tr>\n",
              "    <tr>\n",
              "      <th>1</th>\n",
              "      <td>4.9</td>\n",
              "      <td>3.0</td>\n",
              "      <td>1.4</td>\n",
              "      <td>0.2</td>\n",
              "      <td>setosa</td>\n",
              "    </tr>\n",
              "    <tr>\n",
              "      <th>2</th>\n",
              "      <td>4.7</td>\n",
              "      <td>3.2</td>\n",
              "      <td>1.3</td>\n",
              "      <td>0.2</td>\n",
              "      <td>setosa</td>\n",
              "    </tr>\n",
              "    <tr>\n",
              "      <th>3</th>\n",
              "      <td>4.6</td>\n",
              "      <td>3.1</td>\n",
              "      <td>1.5</td>\n",
              "      <td>0.2</td>\n",
              "      <td>setosa</td>\n",
              "    </tr>\n",
              "    <tr>\n",
              "      <th>4</th>\n",
              "      <td>5.0</td>\n",
              "      <td>3.6</td>\n",
              "      <td>1.4</td>\n",
              "      <td>0.2</td>\n",
              "      <td>setosa</td>\n",
              "    </tr>\n",
              "  </tbody>\n",
              "</table>\n",
              "</div>"
            ],
            "text/plain": [
              "   꽃잎길이  꽃잎폭  꽃받침길이  꽃받침폭      품종\n",
              "0   5.1  3.5    1.4   0.2  setosa\n",
              "1   4.9  3.0    1.4   0.2  setosa\n",
              "2   4.7  3.2    1.3   0.2  setosa\n",
              "3   4.6  3.1    1.5   0.2  setosa\n",
              "4   5.0  3.6    1.4   0.2  setosa"
            ]
          },
          "metadata": {},
          "execution_count": 29
        }
      ]
    },
    {
      "cell_type": "markdown",
      "metadata": {
        "id": "zrJVUyyBRYo7"
      },
      "source": [
        "## 첫번째 딥러닝 - 레모네이드 판매 예측\n",
        "\n",
        "- https://raw.githubusercontent.com/blackdew/ml-tensorflow/master/data/csv/lemonade.csv"
      ]
    },
    {
      "cell_type": "code",
      "metadata": {
        "colab": {
          "base_uri": "https://localhost:8080/"
        },
        "id": "L9uj1LfdRWfA",
        "outputId": "992067a1-5ad9-4816-cac2-8e8596ae7e4b"
      },
      "source": [
        "import tensorflow as tf\n",
        "import pandas as pd\n",
        "\n",
        "# 데이터 준비\n",
        "path = \"https://raw.githubusercontent.com/blackdew/ml-tensorflow/master/data/csv/lemonade.csv\"\n",
        "lemon = pd.read_csv(path)\n",
        "\n",
        "x_lemon = lemon[['온도']]\n",
        "y_lemon = lemon[['판매량']]\n",
        "print(x_lemon.shape, y_lemon.shape)"
      ],
      "execution_count": null,
      "outputs": [
        {
          "output_type": "stream",
          "name": "stdout",
          "text": [
            "(6, 1) (6, 1)\n"
          ]
        }
      ]
    },
    {
      "cell_type": "code",
      "metadata": {
        "id": "ofHDXN8nSSkc"
      },
      "source": [
        "# 모델 생성\n",
        "X = tf.keras.layers.Input(shape=[1])\n",
        "Y = tf.keras.layers.Dense(1)(X)\n",
        "model = tf.keras.models.Model(X, Y)\n",
        "model.compile(loss=\"mse\")"
      ],
      "execution_count": null,
      "outputs": []
    },
    {
      "cell_type": "code",
      "metadata": {
        "colab": {
          "base_uri": "https://localhost:8080/"
        },
        "id": "r_LgjOzuUdv7",
        "outputId": "a5fa8b79-d35a-4156-e1c5-400e80446010"
      },
      "source": [
        "# 모델에 데이터 학습\n",
        "model.fit(x_lemon, y_lemon, epochs=1000, verbose=0)\n",
        "model.fit(x_lemon, y_lemon, epochs=10)"
      ],
      "execution_count": null,
      "outputs": [
        {
          "output_type": "stream",
          "name": "stdout",
          "text": [
            "Epoch 1/10\n",
            "1/1 [==============================] - 0s 6ms/step - loss: 5.9560e-04\n",
            "Epoch 2/10\n",
            "1/1 [==============================] - 0s 6ms/step - loss: 5.9516e-04\n",
            "Epoch 3/10\n",
            "1/1 [==============================] - 0s 6ms/step - loss: 5.9475e-04\n",
            "Epoch 4/10\n",
            "1/1 [==============================] - 0s 5ms/step - loss: 5.9437e-04\n",
            "Epoch 5/10\n",
            "1/1 [==============================] - 0s 5ms/step - loss: 5.9396e-04\n",
            "Epoch 6/10\n",
            "1/1 [==============================] - 0s 7ms/step - loss: 5.9360e-04\n",
            "Epoch 7/10\n",
            "1/1 [==============================] - 0s 11ms/step - loss: 5.9324e-04\n",
            "Epoch 8/10\n",
            "1/1 [==============================] - 0s 6ms/step - loss: 5.9286e-04\n",
            "Epoch 9/10\n",
            "1/1 [==============================] - 0s 9ms/step - loss: 5.9248e-04\n",
            "Epoch 10/10\n",
            "1/1 [==============================] - 0s 6ms/step - loss: 5.9212e-04\n"
          ]
        },
        {
          "output_type": "execute_result",
          "data": {
            "text/plain": [
              "<keras.callbacks.History at 0x7f283da46f50>"
            ]
          },
          "metadata": {},
          "execution_count": 20
        }
      ]
    },
    {
      "cell_type": "code",
      "metadata": {
        "colab": {
          "base_uri": "https://localhost:8080/"
        },
        "id": "hJtR5ELdUr5c",
        "outputId": "b371eb52-4c0a-4de7-9d76-210297f69761"
      },
      "source": [
        "# 모델 이용\n",
        "model.predict(x_lemon)"
      ],
      "execution_count": null,
      "outputs": [
        {
          "output_type": "execute_result",
          "data": {
            "text/plain": [
              "array([[40.022118],\n",
              "       [42.00919 ],\n",
              "       [43.996258],\n",
              "       [45.98333 ],\n",
              "       [47.9704  ],\n",
              "       [49.95747 ]], dtype=float32)"
            ]
          },
          "metadata": {},
          "execution_count": 21
        }
      ]
    },
    {
      "cell_type": "code",
      "metadata": {
        "colab": {
          "base_uri": "https://localhost:8080/"
        },
        "id": "8b_yFh9sVHKL",
        "outputId": "4304c125-addb-4427-90c6-7606cc65f404"
      },
      "source": [
        "model.get_weights()"
      ],
      "execution_count": null,
      "outputs": [
        {
          "output_type": "execute_result",
          "data": {
            "text/plain": [
              "[array([[1.9870703]], dtype=float32), array([0.28071314], dtype=float32)]"
            ]
          },
          "metadata": {},
          "execution_count": 23
        }
      ]
    },
    {
      "cell_type": "code",
      "metadata": {
        "colab": {
          "base_uri": "https://localhost:8080/"
        },
        "id": "9cfn1GxPVPWO",
        "outputId": "adb2b3e2-7278-4706-c83d-aec0fbc8c129"
      },
      "source": [
        "온도 = 20\n",
        "판매량 = 1.9870703 * 온도 + 0.28071314\n",
        "판매량"
      ],
      "execution_count": null,
      "outputs": [
        {
          "output_type": "execute_result",
          "data": {
            "text/plain": [
              "40.02211914"
            ]
          },
          "metadata": {},
          "execution_count": 24
        }
      ]
    },
    {
      "cell_type": "markdown",
      "metadata": {
        "id": "EJnMB1f_fIk5"
      },
      "source": [
        "## 두번째 딥러닝 - 보스턴 집값 예측\n",
        "- https://raw.githubusercontent.com/blackdew/ml-tensorflow/master/data/csv/boston.csv"
      ]
    },
    {
      "cell_type": "code",
      "metadata": {
        "colab": {
          "base_uri": "https://localhost:8080/"
        },
        "id": "6wbvu8_FW4w4",
        "outputId": "61042eae-5512-4836-dc57-86651156f097"
      },
      "source": [
        "import pandas as pd\n",
        "import tensorflow as tf\n",
        "\n",
        "# 데이터 준비\n",
        "path = \"https://raw.githubusercontent.com/blackdew/ml-tensorflow/master/data/csv/boston.csv\"\n",
        "boston = pd.read_csv(path)\n",
        "print(boston.columns)\n",
        "\n",
        "x_boston = boston[['crim', 'zn', 'indus', 'chas', 'nox', 'rm', 'age', 'dis', 'rad', 'tax',\n",
        "       'ptratio', 'b', 'lstat']]\n",
        "\n",
        "y_boston = boston[['medv']]\n",
        "print(x_boston.shape, y_boston.shape)"
      ],
      "execution_count": null,
      "outputs": [
        {
          "output_type": "stream",
          "name": "stdout",
          "text": [
            "Index(['crim', 'zn', 'indus', 'chas', 'nox', 'rm', 'age', 'dis', 'rad', 'tax',\n",
            "       'ptratio', 'b', 'lstat', 'medv'],\n",
            "      dtype='object')\n",
            "(506, 13) (506, 1)\n"
          ]
        }
      ]
    },
    {
      "cell_type": "code",
      "metadata": {
        "colab": {
          "base_uri": "https://localhost:8080/",
          "height": 427
        },
        "id": "OKpOwAw5fanQ",
        "outputId": "6c9254b1-a8a3-4ea6-aeae-efa0c6178c8c"
      },
      "source": [
        "# 모델 생성\n",
        "X = tf.keras.layers.Input(shape=[13])\n",
        "Y = tf.keras.layers.Dense(1)(X)\n",
        "model = tf.keras.models.Model(X, Y)\n",
        "model.compile(loss=\"mse\")\n",
        "\n",
        "model.summary()\n",
        "tf.keras.utils.plot_model(model, show_shapes=True)"
      ],
      "execution_count": null,
      "outputs": [
        {
          "output_type": "stream",
          "name": "stdout",
          "text": [
            "Model: \"model_2\"\n",
            "_________________________________________________________________\n",
            " Layer (type)                Output Shape              Param #   \n",
            "=================================================================\n",
            " input_4 (InputLayer)        [(None, 13)]              0         \n",
            "                                                                 \n",
            " dense_2 (Dense)             (None, 1)                 14        \n",
            "                                                                 \n",
            "=================================================================\n",
            "Total params: 14\n",
            "Trainable params: 14\n",
            "Non-trainable params: 0\n",
            "_________________________________________________________________\n"
          ]
        },
        {
          "output_type": "execute_result",
          "data": {
            "image/png": "[encoded data removed]",
            "text/plain": [
              "<IPython.core.display.Image object>"
            ]
          },
          "metadata": {},
          "execution_count": 33
        }
      ]
    },
    {
      "cell_type": "code",
      "metadata": {
        "colab": {
          "base_uri": "https://localhost:8080/"
        },
        "id": "Zlp_3XztgLxj",
        "outputId": "61274c0f-ea2b-4a40-d355-5e615d1a8ce2"
      },
      "source": [
        "# 모델에 데이터 학습\n",
        "model.fit(x_boston, y_boston, epochs=1000, verbose=0)\n",
        "model.fit(x_boston, y_boston, epochs=10)"
      ],
      "execution_count": null,
      "outputs": [
        {
          "output_type": "stream",
          "name": "stdout",
          "text": [
            "Epoch 1/10\n",
            "16/16 [==============================] - 0s 1ms/step - loss: 24.1248\n",
            "Epoch 2/10\n",
            "16/16 [==============================] - 0s 2ms/step - loss: 24.5402\n",
            "Epoch 3/10\n",
            "16/16 [==============================] - 0s 1ms/step - loss: 24.0478\n",
            "Epoch 4/10\n",
            "16/16 [==============================] - 0s 1ms/step - loss: 24.1700\n",
            "Epoch 5/10\n",
            "16/16 [==============================] - 0s 1ms/step - loss: 24.4346\n",
            "Epoch 6/10\n",
            "16/16 [==============================] - 0s 1ms/step - loss: 24.4059\n",
            "Epoch 7/10\n",
            "16/16 [==============================] - 0s 2ms/step - loss: 24.8140\n",
            "Epoch 8/10\n",
            "16/16 [==============================] - 0s 2ms/step - loss: 24.5571\n",
            "Epoch 9/10\n",
            "16/16 [==============================] - 0s 2ms/step - loss: 24.2357\n",
            "Epoch 10/10\n",
            "16/16 [==============================] - 0s 2ms/step - loss: 24.0571\n"
          ]
        },
        {
          "output_type": "execute_result",
          "data": {
            "text/plain": [
              "<keras.callbacks.History at 0x7f283d5c63d0>"
            ]
          },
          "metadata": {},
          "execution_count": 39
        }
      ]
    },
    {
      "cell_type": "code",
      "metadata": {
        "colab": {
          "base_uri": "https://localhost:8080/"
        },
        "id": "dBrKE2e1hCQi",
        "outputId": "fa1e8c67-f194-4a21-cb6b-25e352701a0d"
      },
      "source": [
        "# 모델 이용\n",
        "model.predict(x_boston[:5])"
      ],
      "execution_count": null,
      "outputs": [
        {
          "output_type": "execute_result",
          "data": {
            "text/plain": [
              "array([[29.64109 ],\n",
              "       [24.344156],\n",
              "       [30.93721 ],\n",
              "       [29.750265],\n",
              "       [29.348034]], dtype=float32)"
            ]
          },
          "metadata": {},
          "execution_count": 38
        }
      ]
    },
    {
      "cell_type": "code",
      "metadata": {
        "id": "hZC05Oieh3lo"
      },
      "source": [
        "# model.predict([[1, 2, 3, 4, 5, 6, 7, 8, 9, 10, 11, 12, 13]]) 새로운 값을 넣어줄 경우 대괄호 2개(dataframe)"
      ],
      "execution_count": null,
      "outputs": []
    },
    {
      "cell_type": "code",
      "metadata": {
        "id": "Ub7EijgRjN55",
        "colab": {
          "base_uri": "https://localhost:8080/"
        },
        "outputId": "6bc36fc8-2306-46bf-a42e-0bbbf030b65d"
      },
      "source": [
        "model.get_weights()"
      ],
      "execution_count": null,
      "outputs": [
        {
          "output_type": "execute_result",
          "data": {
            "text/plain": [
              "[array([[-0.09295926],\n",
              "        [ 0.04953612],\n",
              "        [-0.03375108],\n",
              "        [ 2.6689477 ],\n",
              "        [ 0.85469836],\n",
              "        [ 5.3469906 ],\n",
              "        [-0.01220692],\n",
              "        [-1.0050198 ],\n",
              "        [ 0.18531793],\n",
              "        [-0.01133422],\n",
              "        [-0.45649588],\n",
              "        [ 0.01313996],\n",
              "        [-0.46232322]], dtype=float32), array([5.0272164], dtype=float32)]"
            ]
          },
          "metadata": {},
          "execution_count": 40
        }
      ]
    },
    {
      "cell_type": "markdown",
      "metadata": {
        "id": "TzAy-R6oU8yL"
      },
      "source": [
        "## 세번째 딥러닝 아이리스 품종 분류\n",
        "- https://raw.githubusercontent.com/blackdew/ml-tensorflow/master/data/csv/iris.csv"
      ]
    },
    {
      "cell_type": "code",
      "metadata": {
        "id": "Xj5BVBAXjPxd",
        "colab": {
          "base_uri": "https://localhost:8080/"
        },
        "outputId": "b4263ab3-8d00-4425-eef9-d2fae3038298"
      },
      "source": [
        "import tensorflow as tf\n",
        "import pandas as pd\n",
        "\n",
        "path = \"https://raw.githubusercontent.com/blackdew/ml-tensorflow/master/data/csv/iris.csv\"\n",
        "iris = pd.read_csv(path)\n",
        "iris = pd.get_dummies(iris)\n",
        "print(iris.columns)\n",
        "\n",
        "x_iris = iris[['꽃잎길이', '꽃잎폭', '꽃받침길이', '꽃받침폭']]\n",
        "y_iris = iris[['품종_setosa', '품종_versicolor', '품종_virginica']]\n",
        "\n",
        "print(x_iris.shape, y_iris.shape)\n",
        "print(x_iris.head(1))\n",
        "print(y_iris.head(1))"
      ],
      "execution_count": null,
      "outputs": [
        {
          "output_type": "stream",
          "name": "stdout",
          "text": [
            "Index(['꽃잎길이', '꽃잎폭', '꽃받침길이', '꽃받침폭', '품종_setosa', '품종_versicolor',\n",
            "       '품종_virginica'],\n",
            "      dtype='object')\n",
            "(150, 4) (150, 3)\n",
            "   꽃잎길이  꽃잎폭  꽃받침길이  꽃받침폭\n",
            "0   5.1  3.5    1.4   0.2\n",
            "   품종_setosa  품종_versicolor  품종_virginica\n",
            "0          1              0             0\n"
          ]
        }
      ]
    },
    {
      "cell_type": "code",
      "metadata": {
        "id": "AEHgPgytVmz-"
      },
      "source": [
        "# 모델 준비\n",
        "X = tf.keras.layers.Input(shape=[4])\n",
        "Y = tf.keras.layers.Dense(3, activation=\"softmax\")(X)\n",
        "model = tf.keras.models.Model(X, Y)\n",
        "model.compile(loss=\"categorical_crossentropy\", metrics=\"accuracy\")"
      ],
      "execution_count": null,
      "outputs": []
    },
    {
      "cell_type": "code",
      "metadata": {
        "colab": {
          "base_uri": "https://localhost:8080/"
        },
        "id": "IaMWLkXeWAgE",
        "outputId": "0fe63a6d-4bca-4bdd-966a-81211f81c2eb"
      },
      "source": [
        "\n",
        "model.fit(x_iris, y_iris, epochs=2000, verbose=0)\n",
        "model.fit(x_iris, y_iris, epochs=10)"
      ],
      "execution_count": null,
      "outputs": [
        {
          "output_type": "stream",
          "name": "stdout",
          "text": [
            "Epoch 1/10\n",
            "5/5 [==============================] - 0s 3ms/step - loss: 0.0944 - accuracy: 0.9667\n",
            "Epoch 2/10\n",
            "5/5 [==============================] - 0s 2ms/step - loss: 0.0938 - accuracy: 0.9667\n",
            "Epoch 3/10\n",
            "5/5 [==============================] - 0s 2ms/step - loss: 0.0940 - accuracy: 0.9667\n",
            "Epoch 4/10\n",
            "5/5 [==============================] - 0s 2ms/step - loss: 0.0941 - accuracy: 0.9667\n",
            "Epoch 5/10\n",
            "5/5 [==============================] - 0s 3ms/step - loss: 0.0935 - accuracy: 0.9667\n",
            "Epoch 6/10\n",
            "5/5 [==============================] - 0s 2ms/step - loss: 0.0936 - accuracy: 0.9667\n",
            "Epoch 7/10\n",
            "5/5 [==============================] - 0s 3ms/step - loss: 0.0939 - accuracy: 0.9667\n",
            "Epoch 8/10\n",
            "5/5 [==============================] - 0s 4ms/step - loss: 0.0935 - accuracy: 0.9667\n",
            "Epoch 9/10\n",
            "5/5 [==============================] - 0s 2ms/step - loss: 0.0938 - accuracy: 0.9667\n",
            "Epoch 10/10\n",
            "5/5 [==============================] - 0s 3ms/step - loss: 0.0938 - accuracy: 0.9667\n"
          ]
        },
        {
          "output_type": "execute_result",
          "data": {
            "text/plain": [
              "<keras.callbacks.History at 0x7f1cb6481c50>"
            ]
          },
          "metadata": {},
          "execution_count": 15
        }
      ]
    },
    {
      "cell_type": "code",
      "metadata": {
        "colab": {
          "base_uri": "https://localhost:8080/",
          "height": 206
        },
        "id": "0pHpriD8XtGO",
        "outputId": "b9063904-a99e-40f4-e1fb-b1520187f6f7"
      },
      "source": [
        "sample = x_iris.sample(5)\n",
        "sample"
      ],
      "execution_count": null,
      "outputs": [
        {
          "output_type": "execute_result",
          "data": {
            "text/html": [
              "<div>\n",
              "<style scoped>\n",
              "    .dataframe tbody tr th:only-of-type {\n",
              "        vertical-align: middle;\n",
              "    }\n",
              "\n",
              "    .dataframe tbody tr th {\n",
              "        vertical-align: top;\n",
              "    }\n",
              "\n",
              "    .dataframe thead th {\n",
              "        text-align: right;\n",
              "    }\n",
              "</style>\n",
              "<table border=\"1\" class=\"dataframe\">\n",
              "  <thead>\n",
              "    <tr style=\"text-align: right;\">\n",
              "      <th></th>\n",
              "      <th>꽃잎길이</th>\n",
              "      <th>꽃잎폭</th>\n",
              "      <th>꽃받침길이</th>\n",
              "      <th>꽃받침폭</th>\n",
              "    </tr>\n",
              "  </thead>\n",
              "  <tbody>\n",
              "    <tr>\n",
              "      <th>133</th>\n",
              "      <td>6.3</td>\n",
              "      <td>2.8</td>\n",
              "      <td>5.1</td>\n",
              "      <td>1.5</td>\n",
              "    </tr>\n",
              "    <tr>\n",
              "      <th>21</th>\n",
              "      <td>5.1</td>\n",
              "      <td>3.7</td>\n",
              "      <td>1.5</td>\n",
              "      <td>0.4</td>\n",
              "    </tr>\n",
              "    <tr>\n",
              "      <th>140</th>\n",
              "      <td>6.7</td>\n",
              "      <td>3.1</td>\n",
              "      <td>5.6</td>\n",
              "      <td>2.4</td>\n",
              "    </tr>\n",
              "    <tr>\n",
              "      <th>35</th>\n",
              "      <td>5.0</td>\n",
              "      <td>3.2</td>\n",
              "      <td>1.2</td>\n",
              "      <td>0.2</td>\n",
              "    </tr>\n",
              "    <tr>\n",
              "      <th>83</th>\n",
              "      <td>6.0</td>\n",
              "      <td>2.7</td>\n",
              "      <td>5.1</td>\n",
              "      <td>1.6</td>\n",
              "    </tr>\n",
              "  </tbody>\n",
              "</table>\n",
              "</div>"
            ],
            "text/plain": [
              "     꽃잎길이  꽃잎폭  꽃받침길이  꽃받침폭\n",
              "133   6.3  2.8    5.1   1.5\n",
              "21    5.1  3.7    1.5   0.4\n",
              "140   6.7  3.1    5.6   2.4\n",
              "35    5.0  3.2    1.2   0.2\n",
              "83    6.0  2.7    5.1   1.6"
            ]
          },
          "metadata": {},
          "execution_count": 16
        }
      ]
    },
    {
      "cell_type": "code",
      "metadata": {
        "colab": {
          "base_uri": "https://localhost:8080/"
        },
        "id": "2f6d_z5ZeycH",
        "outputId": "2054f677-25e4-459c-cdd2-c3b060ad7e37"
      },
      "source": [
        "pred = model.predict(sample)\n",
        "pred"
      ],
      "execution_count": null,
      "outputs": [
        {
          "output_type": "execute_result",
          "data": {
            "text/plain": [
              "array([[3.2541632e-08, 5.7663447e-01, 4.2336556e-01],\n",
              "       [9.9997413e-01, 2.5877005e-05, 3.6105210e-12],\n",
              "       [2.4893065e-12, 7.5549060e-03, 9.9244505e-01],\n",
              "       [9.9998283e-01, 1.7174121e-05, 1.8379586e-12],\n",
              "       [5.0565081e-09, 2.7981293e-01, 7.2018707e-01]], dtype=float32)"
            ]
          },
          "metadata": {},
          "execution_count": 17
        }
      ]
    },
    {
      "cell_type": "code",
      "metadata": {
        "colab": {
          "base_uri": "https://localhost:8080/",
          "height": 206
        },
        "id": "lMu-T8kde1F6",
        "outputId": "2f5af4be-0894-4e4b-f5bd-d99031026b52"
      },
      "source": [
        "y_iris.loc[sample.index, :]"
      ],
      "execution_count": null,
      "outputs": [
        {
          "output_type": "execute_result",
          "data": {
            "text/html": [
              "<div>\n",
              "<style scoped>\n",
              "    .dataframe tbody tr th:only-of-type {\n",
              "        vertical-align: middle;\n",
              "    }\n",
              "\n",
              "    .dataframe tbody tr th {\n",
              "        vertical-align: top;\n",
              "    }\n",
              "\n",
              "    .dataframe thead th {\n",
              "        text-align: right;\n",
              "    }\n",
              "</style>\n",
              "<table border=\"1\" class=\"dataframe\">\n",
              "  <thead>\n",
              "    <tr style=\"text-align: right;\">\n",
              "      <th></th>\n",
              "      <th>품종_setosa</th>\n",
              "      <th>품종_versicolor</th>\n",
              "      <th>품종_virginica</th>\n",
              "    </tr>\n",
              "  </thead>\n",
              "  <tbody>\n",
              "    <tr>\n",
              "      <th>133</th>\n",
              "      <td>0</td>\n",
              "      <td>0</td>\n",
              "      <td>1</td>\n",
              "    </tr>\n",
              "    <tr>\n",
              "      <th>21</th>\n",
              "      <td>1</td>\n",
              "      <td>0</td>\n",
              "      <td>0</td>\n",
              "    </tr>\n",
              "    <tr>\n",
              "      <th>140</th>\n",
              "      <td>0</td>\n",
              "      <td>0</td>\n",
              "      <td>1</td>\n",
              "    </tr>\n",
              "    <tr>\n",
              "      <th>35</th>\n",
              "      <td>1</td>\n",
              "      <td>0</td>\n",
              "      <td>0</td>\n",
              "    </tr>\n",
              "    <tr>\n",
              "      <th>83</th>\n",
              "      <td>0</td>\n",
              "      <td>1</td>\n",
              "      <td>0</td>\n",
              "    </tr>\n",
              "  </tbody>\n",
              "</table>\n",
              "</div>"
            ],
            "text/plain": [
              "     품종_setosa  품종_versicolor  품종_virginica\n",
              "133          0              0             1\n",
              "21           1              0             0\n",
              "140          0              0             1\n",
              "35           1              0             0\n",
              "83           0              1             0"
            ]
          },
          "metadata": {},
          "execution_count": 18
        }
      ]
    },
    {
      "cell_type": "code",
      "metadata": {
        "colab": {
          "base_uri": "https://localhost:8080/"
        },
        "id": "uCMBWd0ze6Ft",
        "outputId": "e4cc05ba-e2d0-4d8c-f43a-0611b01779fd"
      },
      "source": [
        "model.get_weights()"
      ],
      "execution_count": null,
      "outputs": [
        {
          "output_type": "execute_result",
          "data": {
            "text/plain": [
              "[array([[ 0.912189  , -0.0484387 , -1.2202494 ],\n",
              "        [ 5.3854117 ,  1.3134394 , -1.6170163 ],\n",
              "        [-5.5282416 , -0.01066993,  2.0830235 ],\n",
              "        [-6.829299  , -2.3956156 ,  3.7021174 ]], dtype=float32),\n",
              " array([ 2.794644 ,  2.1481812, -2.397544 ], dtype=float32)]"
            ]
          },
          "metadata": {},
          "execution_count": 19
        }
      ]
    },
    {
      "cell_type": "markdown",
      "metadata": {
        "id": "xAZGSLxGgO8A"
      },
      "source": [
        "## 네번째 딥러닝 히든레이어 \n",
        "- https://raw.githubusercontent.com/blackdew/ml-tensorflow/master/data/csv/boston.csv\n",
        "- https://raw.githubusercontent.com/blackdew/ml-tensorflow/master/data/csv/iris.csv"
      ]
    },
    {
      "cell_type": "code",
      "metadata": {
        "colab": {
          "base_uri": "https://localhost:8080/"
        },
        "id": "aMDwpX07fMDm",
        "outputId": "1898b208-662e-4312-fb60-1f8e2be62f3a"
      },
      "source": [
        "# 데이터 준비\n",
        "import pandas as pd\n",
        "import tensorflow as tf\n",
        "\n",
        "boston = pd.read_csv(\"https://raw.githubusercontent.com/blackdew/ml-tensorflow/master/data/csv/boston.csv\")\n",
        "print(boston.columns)\n",
        "x_boston = boston[['crim', 'zn', 'indus', 'chas', 'nox', 'rm', 'age', 'dis', 'rad', 'tax',\n",
        "       'ptratio', 'b', 'lstat']]\n",
        "y_boston = boston[['medv']]\n",
        "print(x_boston.shape, y_boston.shape)"
      ],
      "execution_count": null,
      "outputs": [
        {
          "output_type": "stream",
          "name": "stdout",
          "text": [
            "Index(['crim', 'zn', 'indus', 'chas', 'nox', 'rm', 'age', 'dis', 'rad', 'tax',\n",
            "       'ptratio', 'b', 'lstat', 'medv'],\n",
            "      dtype='object')\n",
            "(506, 13) (506, 1)\n"
          ]
        }
      ]
    },
    {
      "cell_type": "code",
      "metadata": {
        "colab": {
          "base_uri": "https://localhost:8080/"
        },
        "id": "BvJmjLyDgbQh",
        "outputId": "f18a73e3-d412-4d0f-a658-6ee9b9c9bbc2"
      },
      "source": [
        "# 모델 준비\n",
        "X = tf.keras.layers.Input(shape=[13])\n",
        "H = tf.keras.layers.Dense(5, activation='swish')(X)\n",
        "H = tf.keras.layers.Dense(5, activation='swish')(H)\n",
        "H = tf.keras.layers.Dense(5, activation='swish')(H)\n",
        "Y = tf.keras.layers.Dense(1)(H)\n",
        "model = tf.keras.models.Model(X, Y)\n",
        "model.compile(loss='mse')\n",
        "\n",
        "model.summary()"
      ],
      "execution_count": null,
      "outputs": [
        {
          "output_type": "stream",
          "name": "stdout",
          "text": [
            "Model: \"model_2\"\n",
            "_________________________________________________________________\n",
            " Layer (type)                Output Shape              Param #   \n",
            "=================================================================\n",
            " input_8 (InputLayer)        [(None, 13)]              0         \n",
            "                                                                 \n",
            " dense_22 (Dense)            (None, 5)                 70        \n",
            "                                                                 \n",
            " dense_23 (Dense)            (None, 5)                 30        \n",
            "                                                                 \n",
            " dense_24 (Dense)            (None, 5)                 30        \n",
            "                                                                 \n",
            " dense_25 (Dense)            (None, 1)                 6         \n",
            "                                                                 \n",
            "=================================================================\n",
            "Total params: 136\n",
            "Trainable params: 136\n",
            "Non-trainable params: 0\n",
            "_________________________________________________________________\n"
          ]
        }
      ]
    },
    {
      "cell_type": "code",
      "metadata": {
        "colab": {
          "base_uri": "https://localhost:8080/"
        },
        "id": "ha8XRmg0g8tB",
        "outputId": "433e85db-d16e-4155-f0b0-70f2fa9d24f8"
      },
      "source": [
        "# 모델을 데이터로 학습\n",
        "model.fit(x_boston, y_boston, epochs=5000, verbose=0)\n",
        "model.fit(x_boston, y_boston, epochs=10)"
      ],
      "execution_count": null,
      "outputs": [
        {
          "output_type": "stream",
          "name": "stdout",
          "text": [
            "Epoch 1/10\n",
            "16/16 [==============================] - 0s 2ms/step - loss: 17.0633\n",
            "Epoch 2/10\n",
            "16/16 [==============================] - 0s 2ms/step - loss: 17.8323\n",
            "Epoch 3/10\n",
            "16/16 [==============================] - 0s 2ms/step - loss: 17.6212\n",
            "Epoch 4/10\n",
            "16/16 [==============================] - 0s 2ms/step - loss: 17.1473\n",
            "Epoch 5/10\n",
            "16/16 [==============================] - 0s 2ms/step - loss: 17.2441\n",
            "Epoch 6/10\n",
            "16/16 [==============================] - 0s 2ms/step - loss: 17.2634\n",
            "Epoch 7/10\n",
            "16/16 [==============================] - 0s 2ms/step - loss: 18.1767\n",
            "Epoch 8/10\n",
            "16/16 [==============================] - 0s 2ms/step - loss: 17.3598\n",
            "Epoch 9/10\n",
            "16/16 [==============================] - 0s 2ms/step - loss: 16.9645\n",
            "Epoch 10/10\n",
            "16/16 [==============================] - 0s 2ms/step - loss: 17.2490\n"
          ]
        },
        {
          "output_type": "execute_result",
          "data": {
            "text/plain": [
              "<keras.callbacks.History at 0x7f1cb58de8d0>"
            ]
          },
          "metadata": {},
          "execution_count": 42
        }
      ]
    },
    {
      "cell_type": "markdown",
      "metadata": {
        "id": "P_jYBBsXmna8"
      },
      "source": [
        "### 아이리스 인공신경망"
      ]
    },
    {
      "cell_type": "code",
      "metadata": {
        "colab": {
          "base_uri": "https://localhost:8080/"
        },
        "id": "5RujySdLmnOd",
        "outputId": "db5cb4c7-53ca-4aa2-eba4-ffe5ebc67787"
      },
      "source": [
        "import pandas as pd\n",
        "import tensorflow as tf\n",
        "\n",
        "# 데이터 준비\n",
        "iris = pd.read_csv(\"https://raw.githubusercontent.com/blackdew/ml-tensorflow/master/data/csv/iris.csv\")\n",
        "iris = pd.get_dummies(iris)\n",
        "print(iris.columns)\n",
        "\n",
        "x_iris = iris[['꽃잎길이', '꽃잎폭', '꽃받침길이', '꽃받침폭']]\n",
        "y_iris = iris[['품종_setosa', '품종_versicolor', '품종_virginica']]\n",
        "print(x_iris.shape, y_iris.shape)"
      ],
      "execution_count": null,
      "outputs": [
        {
          "output_type": "stream",
          "name": "stdout",
          "text": [
            "Index(['꽃잎길이', '꽃잎폭', '꽃받침길이', '꽃받침폭', '품종_setosa', '품종_versicolor',\n",
            "       '품종_virginica'],\n",
            "      dtype='object')\n",
            "(150, 4) (150, 3)\n"
          ]
        }
      ]
    },
    {
      "cell_type": "code",
      "metadata": {
        "id": "o8b-udHthFWc",
        "colab": {
          "base_uri": "https://localhost:8080/"
        },
        "outputId": "bee69ec0-a5e4-4929-caba-3aebca5b1735"
      },
      "source": [
        "# 모델을 생성합니다. \n",
        "X = tf.keras.layers.Input(shape=[4])\n",
        "H = tf.keras.layers.Dense(8, activation='swish')(X)\n",
        "H = tf.keras.layers.Dense(8, activation='swish')(H)\n",
        "H = tf.keras.layers.Dense(8, activation='swish')(H)\n",
        "Y = tf.keras.layers.Dense(3, activation='softmax')(H)\n",
        "model = tf.keras.models.Model(X, Y)\n",
        "model.compile(loss='categorical_crossentropy', metrics='accuracy')\n",
        "model.summary()"
      ],
      "execution_count": null,
      "outputs": [
        {
          "output_type": "stream",
          "name": "stdout",
          "text": [
            "Model: \"model_6\"\n",
            "_________________________________________________________________\n",
            " Layer (type)                Output Shape              Param #   \n",
            "=================================================================\n",
            " input_15 (InputLayer)       [(None, 4)]               0         \n",
            "                                                                 \n",
            " dense_40 (Dense)            (None, 8)                 40        \n",
            "                                                                 \n",
            " dense_41 (Dense)            (None, 8)                 72        \n",
            "                                                                 \n",
            " dense_42 (Dense)            (None, 8)                 72        \n",
            "                                                                 \n",
            " dense_43 (Dense)            (None, 3)                 27        \n",
            "                                                                 \n",
            "=================================================================\n",
            "Total params: 211\n",
            "Trainable params: 211\n",
            "Non-trainable params: 0\n",
            "_________________________________________________________________\n"
          ]
        }
      ]
    },
    {
      "cell_type": "code",
      "metadata": {
        "id": "eKxe_PbPnt8y",
        "colab": {
          "base_uri": "https://localhost:8080/"
        },
        "outputId": "38d7486f-d8d9-4613-ee05-e34fdcdb0385"
      },
      "source": [
        "model.fit(x_iris, y_iris, epochs=1000, verbose=0)\n",
        "model.fit(x_iris, y_iris, epochs=10)"
      ],
      "execution_count": null,
      "outputs": [
        {
          "output_type": "stream",
          "name": "stdout",
          "text": [
            "Epoch 1/10\n",
            "5/5 [==============================] - 0s 4ms/step - loss: 0.0480 - accuracy: 0.9733\n",
            "Epoch 2/10\n",
            "5/5 [==============================] - 0s 3ms/step - loss: 0.0450 - accuracy: 0.9867\n",
            "Epoch 3/10\n",
            "5/5 [==============================] - 0s 3ms/step - loss: 0.0454 - accuracy: 0.9800\n",
            "Epoch 4/10\n",
            "5/5 [==============================] - 0s 3ms/step - loss: 0.0507 - accuracy: 0.9800\n",
            "Epoch 5/10\n",
            "5/5 [==============================] - 0s 3ms/step - loss: 0.0449 - accuracy: 0.9733\n",
            "Epoch 6/10\n",
            "5/5 [==============================] - 0s 5ms/step - loss: 0.0480 - accuracy: 0.9867\n",
            "Epoch 7/10\n",
            "5/5 [==============================] - 0s 3ms/step - loss: 0.0492 - accuracy: 0.9800\n",
            "Epoch 8/10\n",
            "5/5 [==============================] - 0s 4ms/step - loss: 0.0411 - accuracy: 0.9800\n",
            "Epoch 9/10\n",
            "5/5 [==============================] - 0s 3ms/step - loss: 0.0425 - accuracy: 0.9867\n",
            "Epoch 10/10\n",
            "5/5 [==============================] - 0s 3ms/step - loss: 0.0539 - accuracy: 0.9800\n"
          ]
        },
        {
          "output_type": "execute_result",
          "data": {
            "text/plain": [
              "<keras.callbacks.History at 0x7f1caae218d0>"
            ]
          },
          "metadata": {},
          "execution_count": 60
        }
      ]
    },
    {
      "cell_type": "markdown",
      "metadata": {
        "id": "UYj5buJa4f9y"
      },
      "source": [
        "##딥러닝 예제"
      ]
    },
    {
      "cell_type": "code",
      "metadata": {
        "id": "f7kgSfJLoHdp"
      },
      "source": [
        "import tensorflow as tf\n",
        "\n",
        "x_train = [[0, 0],\n",
        "           [0, 1],\n",
        "           [1, 0],\n",
        "           [1, 1]]\n",
        "y_train = [[0, 0],\n",
        "           [0, 1],\n",
        "           [0, 1],\n",
        "           [1, 1]]"
      ],
      "execution_count": 45,
      "outputs": []
    },
    {
      "cell_type": "code",
      "metadata": {
        "id": "aWnVosE3415_"
      },
      "source": [
        "X = tf.keras.layers.Input(shape=[2])\n",
        "H = tf.keras.layers.Dense(8, activation=\"swish\")(X)\n",
        "H = tf.keras.layers.Dense(8, activation=\"swish\")(H)\n",
        "H = tf.keras.layers.Dense(8, activation=\"swish\")(H)\n",
        "Y = tf.keras.layers.Dense(2, activation=\"sigmoid\")(H)\n",
        "model = tf.keras.models.Model(X, Y)\n",
        "model.compile(loss=\"binary_crossentropy\", metrics=\"binary_accuracy\")"
      ],
      "execution_count": 46,
      "outputs": []
    },
    {
      "cell_type": "code",
      "metadata": {
        "colab": {
          "base_uri": "https://localhost:8080/"
        },
        "id": "k3-FiCCI5GpI",
        "outputId": "df8631ad-50d4-476f-b00a-8014abccbfeb"
      },
      "source": [
        "model.fit(x_train, y_train, epochs=300)"
      ],
      "execution_count": 48,
      "outputs": [
        {
          "output_type": "stream",
          "name": "stdout",
          "text": [
            "Epoch 1/300\n",
            "1/1 [==============================] - 0s 7ms/step - loss: 0.2475 - binary_accuracy: 0.8750\n",
            "Epoch 2/300\n",
            "1/1 [==============================] - 0s 6ms/step - loss: 0.2470 - binary_accuracy: 0.8750\n",
            "Epoch 3/300\n",
            "1/1 [==============================] - 0s 6ms/step - loss: 0.2465 - binary_accuracy: 0.8750\n",
            "Epoch 4/300\n",
            "1/1 [==============================] - 0s 6ms/step - loss: 0.2460 - binary_accuracy: 0.8750\n",
            "Epoch 5/300\n",
            "1/1 [==============================] - 0s 7ms/step - loss: 0.2455 - binary_accuracy: 0.8750\n",
            "Epoch 6/300\n",
            "1/1 [==============================] - 0s 13ms/step - loss: 0.2451 - binary_accuracy: 0.8750\n",
            "Epoch 7/300\n",
            "1/1 [==============================] - 0s 8ms/step - loss: 0.2446 - binary_accuracy: 0.8750\n",
            "Epoch 8/300\n",
            "1/1 [==============================] - 0s 11ms/step - loss: 0.2441 - binary_accuracy: 0.8750\n",
            "Epoch 9/300\n",
            "1/1 [==============================] - 0s 8ms/step - loss: 0.2436 - binary_accuracy: 0.8750\n",
            "Epoch 10/300\n",
            "1/1 [==============================] - 0s 6ms/step - loss: 0.2431 - binary_accuracy: 0.8750\n",
            "Epoch 11/300\n",
            "1/1 [==============================] - 0s 6ms/step - loss: 0.2426 - binary_accuracy: 0.8750\n",
            "Epoch 12/300\n",
            "1/1 [==============================] - 0s 8ms/step - loss: 0.2421 - binary_accuracy: 0.8750\n",
            "Epoch 13/300\n",
            "1/1 [==============================] - 0s 5ms/step - loss: 0.2417 - binary_accuracy: 0.8750\n",
            "Epoch 14/300\n",
            "1/1 [==============================] - 0s 14ms/step - loss: 0.2412 - binary_accuracy: 0.8750\n",
            "Epoch 15/300\n",
            "1/1 [==============================] - 0s 6ms/step - loss: 0.2407 - binary_accuracy: 0.8750\n",
            "Epoch 16/300\n",
            "1/1 [==============================] - 0s 8ms/step - loss: 0.2402 - binary_accuracy: 0.8750\n",
            "Epoch 17/300\n",
            "1/1 [==============================] - 0s 6ms/step - loss: 0.2397 - binary_accuracy: 0.8750\n",
            "Epoch 18/300\n",
            "1/1 [==============================] - 0s 8ms/step - loss: 0.2392 - binary_accuracy: 0.8750\n",
            "Epoch 19/300\n",
            "1/1 [==============================] - 0s 5ms/step - loss: 0.2387 - binary_accuracy: 0.8750\n",
            "Epoch 20/300\n",
            "1/1 [==============================] - 0s 6ms/step - loss: 0.2383 - binary_accuracy: 0.8750\n",
            "Epoch 21/300\n",
            "1/1 [==============================] - 0s 5ms/step - loss: 0.2378 - binary_accuracy: 0.8750\n",
            "Epoch 22/300\n",
            "1/1 [==============================] - 0s 6ms/step - loss: 0.2373 - binary_accuracy: 0.8750\n",
            "Epoch 23/300\n",
            "1/1 [==============================] - 0s 11ms/step - loss: 0.2368 - binary_accuracy: 0.8750\n",
            "Epoch 24/300\n",
            "1/1 [==============================] - 0s 6ms/step - loss: 0.2363 - binary_accuracy: 0.8750\n",
            "Epoch 25/300\n",
            "1/1 [==============================] - 0s 7ms/step - loss: 0.2358 - binary_accuracy: 0.8750\n",
            "Epoch 26/300\n",
            "1/1 [==============================] - 0s 16ms/step - loss: 0.2353 - binary_accuracy: 0.8750\n",
            "Epoch 27/300\n",
            "1/1 [==============================] - 0s 11ms/step - loss: 0.2349 - binary_accuracy: 0.8750\n",
            "Epoch 28/300\n",
            "1/1 [==============================] - 0s 6ms/step - loss: 0.2344 - binary_accuracy: 0.8750\n",
            "Epoch 29/300\n",
            "1/1 [==============================] - 0s 5ms/step - loss: 0.2339 - binary_accuracy: 0.8750\n",
            "Epoch 30/300\n",
            "1/1 [==============================] - 0s 6ms/step - loss: 0.2334 - binary_accuracy: 0.8750\n",
            "Epoch 31/300\n",
            "1/1 [==============================] - 0s 6ms/step - loss: 0.2329 - binary_accuracy: 0.8750\n",
            "Epoch 32/300\n",
            "1/1 [==============================] - 0s 6ms/step - loss: 0.2324 - binary_accuracy: 0.8750\n",
            "Epoch 33/300\n",
            "1/1 [==============================] - 0s 18ms/step - loss: 0.2320 - binary_accuracy: 0.8750\n",
            "Epoch 34/300\n",
            "1/1 [==============================] - 0s 7ms/step - loss: 0.2315 - binary_accuracy: 0.8750\n",
            "Epoch 35/300\n",
            "1/1 [==============================] - 0s 11ms/step - loss: 0.2310 - binary_accuracy: 0.8750\n",
            "Epoch 36/300\n",
            "1/1 [==============================] - 0s 7ms/step - loss: 0.2305 - binary_accuracy: 0.8750\n",
            "Epoch 37/300\n",
            "1/1 [==============================] - 0s 15ms/step - loss: 0.2300 - binary_accuracy: 0.8750\n",
            "Epoch 38/300\n",
            "1/1 [==============================] - 0s 6ms/step - loss: 0.2296 - binary_accuracy: 0.8750\n",
            "Epoch 39/300\n",
            "1/1 [==============================] - 0s 9ms/step - loss: 0.2291 - binary_accuracy: 0.8750\n",
            "Epoch 40/300\n",
            "1/1 [==============================] - 0s 11ms/step - loss: 0.2286 - binary_accuracy: 0.8750\n",
            "Epoch 41/300\n",
            "1/1 [==============================] - 0s 6ms/step - loss: 0.2281 - binary_accuracy: 0.8750\n",
            "Epoch 42/300\n",
            "1/1 [==============================] - 0s 7ms/step - loss: 0.2276 - binary_accuracy: 0.8750\n",
            "Epoch 43/300\n",
            "1/1 [==============================] - 0s 6ms/step - loss: 0.2272 - binary_accuracy: 0.8750\n",
            "Epoch 44/300\n",
            "1/1 [==============================] - 0s 6ms/step - loss: 0.2267 - binary_accuracy: 0.8750\n",
            "Epoch 45/300\n",
            "1/1 [==============================] - 0s 6ms/step - loss: 0.2262 - binary_accuracy: 0.8750\n",
            "Epoch 46/300\n",
            "1/1 [==============================] - 0s 6ms/step - loss: 0.2257 - binary_accuracy: 0.8750\n",
            "Epoch 47/300\n",
            "1/1 [==============================] - 0s 6ms/step - loss: 0.2252 - binary_accuracy: 0.8750\n",
            "Epoch 48/300\n",
            "1/1 [==============================] - 0s 13ms/step - loss: 0.2248 - binary_accuracy: 0.8750\n",
            "Epoch 49/300\n",
            "1/1 [==============================] - 0s 11ms/step - loss: 0.2243 - binary_accuracy: 0.8750\n",
            "Epoch 50/300\n",
            "1/1 [==============================] - 0s 6ms/step - loss: 0.2238 - binary_accuracy: 0.8750\n",
            "Epoch 51/300\n",
            "1/1 [==============================] - 0s 8ms/step - loss: 0.2233 - binary_accuracy: 0.8750\n",
            "Epoch 52/300\n",
            "1/1 [==============================] - 0s 11ms/step - loss: 0.2229 - binary_accuracy: 0.8750\n",
            "Epoch 53/300\n",
            "1/1 [==============================] - 0s 7ms/step - loss: 0.2224 - binary_accuracy: 0.8750\n",
            "Epoch 54/300\n",
            "1/1 [==============================] - 0s 15ms/step - loss: 0.2219 - binary_accuracy: 0.8750\n",
            "Epoch 55/300\n",
            "1/1 [==============================] - 0s 8ms/step - loss: 0.2214 - binary_accuracy: 0.8750\n",
            "Epoch 56/300\n",
            "1/1 [==============================] - 0s 6ms/step - loss: 0.2209 - binary_accuracy: 0.8750\n",
            "Epoch 57/300\n",
            "1/1 [==============================] - 0s 7ms/step - loss: 0.2205 - binary_accuracy: 0.8750\n",
            "Epoch 58/300\n",
            "1/1 [==============================] - 0s 6ms/step - loss: 0.2200 - binary_accuracy: 0.8750\n",
            "Epoch 59/300\n",
            "1/1 [==============================] - 0s 5ms/step - loss: 0.2195 - binary_accuracy: 0.8750\n",
            "Epoch 60/300\n",
            "1/1 [==============================] - 0s 6ms/step - loss: 0.2190 - binary_accuracy: 0.8750\n",
            "Epoch 61/300\n",
            "1/1 [==============================] - 0s 8ms/step - loss: 0.2186 - binary_accuracy: 0.8750\n",
            "Epoch 62/300\n",
            "1/1 [==============================] - 0s 13ms/step - loss: 0.2181 - binary_accuracy: 0.8750\n",
            "Epoch 63/300\n",
            "1/1 [==============================] - 0s 16ms/step - loss: 0.2176 - binary_accuracy: 0.8750\n",
            "Epoch 64/300\n",
            "1/1 [==============================] - 0s 11ms/step - loss: 0.2171 - binary_accuracy: 0.8750\n",
            "Epoch 65/300\n",
            "1/1 [==============================] - 0s 9ms/step - loss: 0.2167 - binary_accuracy: 0.8750\n",
            "Epoch 66/300\n",
            "1/1 [==============================] - 0s 10ms/step - loss: 0.2162 - binary_accuracy: 0.8750\n",
            "Epoch 67/300\n",
            "1/1 [==============================] - 0s 7ms/step - loss: 0.2157 - binary_accuracy: 0.8750\n",
            "Epoch 68/300\n",
            "1/1 [==============================] - 0s 8ms/step - loss: 0.2152 - binary_accuracy: 0.8750\n",
            "Epoch 69/300\n",
            "1/1 [==============================] - 0s 7ms/step - loss: 0.2148 - binary_accuracy: 0.8750\n",
            "Epoch 70/300\n",
            "1/1 [==============================] - 0s 7ms/step - loss: 0.2143 - binary_accuracy: 0.8750\n",
            "Epoch 71/300\n",
            "1/1 [==============================] - 0s 6ms/step - loss: 0.2138 - binary_accuracy: 0.8750\n",
            "Epoch 72/300\n",
            "1/1 [==============================] - 0s 5ms/step - loss: 0.2133 - binary_accuracy: 0.8750\n",
            "Epoch 73/300\n",
            "1/1 [==============================] - 0s 6ms/step - loss: 0.2129 - binary_accuracy: 0.8750\n",
            "Epoch 74/300\n",
            "1/1 [==============================] - 0s 8ms/step - loss: 0.2124 - binary_accuracy: 0.8750\n",
            "Epoch 75/300\n",
            "1/1 [==============================] - 0s 7ms/step - loss: 0.2119 - binary_accuracy: 0.8750\n",
            "Epoch 76/300\n",
            "1/1 [==============================] - 0s 7ms/step - loss: 0.2114 - binary_accuracy: 0.8750\n",
            "Epoch 77/300\n",
            "1/1 [==============================] - 0s 7ms/step - loss: 0.2110 - binary_accuracy: 0.8750\n",
            "Epoch 78/300\n",
            "1/1 [==============================] - 0s 6ms/step - loss: 0.2105 - binary_accuracy: 0.8750\n",
            "Epoch 79/300\n",
            "1/1 [==============================] - 0s 6ms/step - loss: 0.2100 - binary_accuracy: 0.8750\n",
            "Epoch 80/300\n",
            "1/1 [==============================] - 0s 7ms/step - loss: 0.2095 - binary_accuracy: 0.8750\n",
            "Epoch 81/300\n",
            "1/1 [==============================] - 0s 7ms/step - loss: 0.2091 - binary_accuracy: 0.8750\n",
            "Epoch 82/300\n",
            "1/1 [==============================] - 0s 6ms/step - loss: 0.2086 - binary_accuracy: 0.8750\n",
            "Epoch 83/300\n",
            "1/1 [==============================] - 0s 7ms/step - loss: 0.2081 - binary_accuracy: 0.8750\n",
            "Epoch 84/300\n",
            "1/1 [==============================] - 0s 6ms/step - loss: 0.2076 - binary_accuracy: 0.8750\n",
            "Epoch 85/300\n",
            "1/1 [==============================] - 0s 5ms/step - loss: 0.2072 - binary_accuracy: 0.8750\n",
            "Epoch 86/300\n",
            "1/1 [==============================] - 0s 6ms/step - loss: 0.2067 - binary_accuracy: 0.8750\n",
            "Epoch 87/300\n",
            "1/1 [==============================] - 0s 6ms/step - loss: 0.2062 - binary_accuracy: 0.8750\n",
            "Epoch 88/300\n",
            "1/1 [==============================] - 0s 6ms/step - loss: 0.2057 - binary_accuracy: 0.8750\n",
            "Epoch 89/300\n",
            "1/1 [==============================] - 0s 6ms/step - loss: 0.2053 - binary_accuracy: 0.8750\n",
            "Epoch 90/300\n",
            "1/1 [==============================] - 0s 6ms/step - loss: 0.2048 - binary_accuracy: 0.8750\n",
            "Epoch 91/300\n",
            "1/1 [==============================] - 0s 9ms/step - loss: 0.2043 - binary_accuracy: 0.8750\n",
            "Epoch 92/300\n",
            "1/1 [==============================] - 0s 6ms/step - loss: 0.2038 - binary_accuracy: 0.8750\n",
            "Epoch 93/300\n",
            "1/1 [==============================] - 0s 11ms/step - loss: 0.2034 - binary_accuracy: 0.8750\n",
            "Epoch 94/300\n",
            "1/1 [==============================] - 0s 6ms/step - loss: 0.2029 - binary_accuracy: 0.8750\n",
            "Epoch 95/300\n",
            "1/1 [==============================] - 0s 6ms/step - loss: 0.2024 - binary_accuracy: 0.8750\n",
            "Epoch 96/300\n",
            "1/1 [==============================] - 0s 12ms/step - loss: 0.2019 - binary_accuracy: 0.8750\n",
            "Epoch 97/300\n",
            "1/1 [==============================] - 0s 11ms/step - loss: 0.2015 - binary_accuracy: 0.8750\n",
            "Epoch 98/300\n",
            "1/1 [==============================] - 0s 9ms/step - loss: 0.2010 - binary_accuracy: 0.8750\n",
            "Epoch 99/300\n",
            "1/1 [==============================] - 0s 7ms/step - loss: 0.2005 - binary_accuracy: 0.8750\n",
            "Epoch 100/300\n",
            "1/1 [==============================] - 0s 10ms/step - loss: 0.2001 - binary_accuracy: 0.8750\n",
            "Epoch 101/300\n",
            "1/1 [==============================] - 0s 8ms/step - loss: 0.1996 - binary_accuracy: 0.8750\n",
            "Epoch 102/300\n",
            "1/1 [==============================] - 0s 8ms/step - loss: 0.1991 - binary_accuracy: 0.8750\n",
            "Epoch 103/300\n",
            "1/1 [==============================] - 0s 7ms/step - loss: 0.1986 - binary_accuracy: 0.8750\n",
            "Epoch 104/300\n",
            "1/1 [==============================] - 0s 7ms/step - loss: 0.1982 - binary_accuracy: 0.8750\n",
            "Epoch 105/300\n",
            "1/1 [==============================] - 0s 6ms/step - loss: 0.1977 - binary_accuracy: 0.8750\n",
            "Epoch 106/300\n",
            "1/1 [==============================] - 0s 5ms/step - loss: 0.1972 - binary_accuracy: 0.8750\n",
            "Epoch 107/300\n",
            "1/1 [==============================] - 0s 6ms/step - loss: 0.1967 - binary_accuracy: 0.8750\n",
            "Epoch 108/300\n",
            "1/1 [==============================] - 0s 6ms/step - loss: 0.1963 - binary_accuracy: 0.8750\n",
            "Epoch 109/300\n",
            "1/1 [==============================] - 0s 6ms/step - loss: 0.1958 - binary_accuracy: 0.8750\n",
            "Epoch 110/300\n",
            "1/1 [==============================] - 0s 6ms/step - loss: 0.1953 - binary_accuracy: 0.8750\n",
            "Epoch 111/300\n",
            "1/1 [==============================] - 0s 15ms/step - loss: 0.1948 - binary_accuracy: 0.8750\n",
            "Epoch 112/300\n",
            "1/1 [==============================] - 0s 7ms/step - loss: 0.1944 - binary_accuracy: 0.8750\n",
            "Epoch 113/300\n",
            "1/1 [==============================] - 0s 6ms/step - loss: 0.1939 - binary_accuracy: 0.8750\n",
            "Epoch 114/300\n",
            "1/1 [==============================] - 0s 7ms/step - loss: 0.1934 - binary_accuracy: 0.8750\n",
            "Epoch 115/300\n",
            "1/1 [==============================] - 0s 7ms/step - loss: 0.1929 - binary_accuracy: 0.8750\n",
            "Epoch 116/300\n",
            "1/1 [==============================] - 0s 12ms/step - loss: 0.1925 - binary_accuracy: 0.8750\n",
            "Epoch 117/300\n",
            "1/1 [==============================] - 0s 6ms/step - loss: 0.1920 - binary_accuracy: 0.8750\n",
            "Epoch 118/300\n",
            "1/1 [==============================] - 0s 8ms/step - loss: 0.1915 - binary_accuracy: 0.8750\n",
            "Epoch 119/300\n",
            "1/1 [==============================] - 0s 8ms/step - loss: 0.1910 - binary_accuracy: 0.8750\n",
            "Epoch 120/300\n",
            "1/1 [==============================] - 0s 6ms/step - loss: 0.1906 - binary_accuracy: 0.8750\n",
            "Epoch 121/300\n",
            "1/1 [==============================] - 0s 6ms/step - loss: 0.1901 - binary_accuracy: 0.8750\n",
            "Epoch 122/300\n",
            "1/1 [==============================] - 0s 6ms/step - loss: 0.1896 - binary_accuracy: 1.0000\n",
            "Epoch 123/300\n",
            "1/1 [==============================] - 0s 6ms/step - loss: 0.1891 - binary_accuracy: 1.0000\n",
            "Epoch 124/300\n",
            "1/1 [==============================] - 0s 6ms/step - loss: 0.1887 - binary_accuracy: 1.0000\n",
            "Epoch 125/300\n",
            "1/1 [==============================] - 0s 6ms/step - loss: 0.1882 - binary_accuracy: 1.0000\n",
            "Epoch 126/300\n",
            "1/1 [==============================] - 0s 6ms/step - loss: 0.1877 - binary_accuracy: 1.0000\n",
            "Epoch 127/300\n",
            "1/1 [==============================] - 0s 7ms/step - loss: 0.1872 - binary_accuracy: 1.0000\n",
            "Epoch 128/300\n",
            "1/1 [==============================] - 0s 9ms/step - loss: 0.1868 - binary_accuracy: 1.0000\n",
            "Epoch 129/300\n",
            "1/1 [==============================] - 0s 11ms/step - loss: 0.1863 - binary_accuracy: 1.0000\n",
            "Epoch 130/300\n",
            "1/1 [==============================] - 0s 6ms/step - loss: 0.1858 - binary_accuracy: 1.0000\n",
            "Epoch 131/300\n",
            "1/1 [==============================] - 0s 6ms/step - loss: 0.1853 - binary_accuracy: 1.0000\n",
            "Epoch 132/300\n",
            "1/1 [==============================] - 0s 6ms/step - loss: 0.1849 - binary_accuracy: 1.0000\n",
            "Epoch 133/300\n",
            "1/1 [==============================] - 0s 7ms/step - loss: 0.1844 - binary_accuracy: 1.0000\n",
            "Epoch 134/300\n",
            "1/1 [==============================] - 0s 7ms/step - loss: 0.1839 - binary_accuracy: 1.0000\n",
            "Epoch 135/300\n",
            "1/1 [==============================] - 0s 6ms/step - loss: 0.1834 - binary_accuracy: 1.0000\n",
            "Epoch 136/300\n",
            "1/1 [==============================] - 0s 8ms/step - loss: 0.1830 - binary_accuracy: 1.0000\n",
            "Epoch 137/300\n",
            "1/1 [==============================] - 0s 6ms/step - loss: 0.1825 - binary_accuracy: 1.0000\n",
            "Epoch 138/300\n",
            "1/1 [==============================] - 0s 9ms/step - loss: 0.1820 - binary_accuracy: 1.0000\n",
            "Epoch 139/300\n",
            "1/1 [==============================] - 0s 9ms/step - loss: 0.1815 - binary_accuracy: 1.0000\n",
            "Epoch 140/300\n",
            "1/1 [==============================] - 0s 7ms/step - loss: 0.1811 - binary_accuracy: 1.0000\n",
            "Epoch 141/300\n",
            "1/1 [==============================] - 0s 8ms/step - loss: 0.1806 - binary_accuracy: 1.0000\n",
            "Epoch 142/300\n",
            "1/1 [==============================] - 0s 12ms/step - loss: 0.1801 - binary_accuracy: 1.0000\n",
            "Epoch 143/300\n",
            "1/1 [==============================] - 0s 9ms/step - loss: 0.1796 - binary_accuracy: 1.0000\n",
            "Epoch 144/300\n",
            "1/1 [==============================] - 0s 10ms/step - loss: 0.1792 - binary_accuracy: 1.0000\n",
            "Epoch 145/300\n",
            "1/1 [==============================] - 0s 7ms/step - loss: 0.1787 - binary_accuracy: 1.0000\n",
            "Epoch 146/300\n",
            "1/1 [==============================] - 0s 10ms/step - loss: 0.1782 - binary_accuracy: 1.0000\n",
            "Epoch 147/300\n",
            "1/1 [==============================] - 0s 8ms/step - loss: 0.1777 - binary_accuracy: 1.0000\n",
            "Epoch 148/300\n",
            "1/1 [==============================] - 0s 7ms/step - loss: 0.1773 - binary_accuracy: 1.0000\n",
            "Epoch 149/300\n",
            "1/1 [==============================] - 0s 7ms/step - loss: 0.1768 - binary_accuracy: 1.0000\n",
            "Epoch 150/300\n",
            "1/1 [==============================] - 0s 8ms/step - loss: 0.1763 - binary_accuracy: 1.0000\n",
            "Epoch 151/300\n",
            "1/1 [==============================] - 0s 16ms/step - loss: 0.1758 - binary_accuracy: 1.0000\n",
            "Epoch 152/300\n",
            "1/1 [==============================] - 0s 6ms/step - loss: 0.1754 - binary_accuracy: 1.0000\n",
            "Epoch 153/300\n",
            "1/1 [==============================] - 0s 7ms/step - loss: 0.1749 - binary_accuracy: 1.0000\n",
            "Epoch 154/300\n",
            "1/1 [==============================] - 0s 7ms/step - loss: 0.1744 - binary_accuracy: 1.0000\n",
            "Epoch 155/300\n",
            "1/1 [==============================] - 0s 7ms/step - loss: 0.1739 - binary_accuracy: 1.0000\n",
            "Epoch 156/300\n",
            "1/1 [==============================] - 0s 6ms/step - loss: 0.1735 - binary_accuracy: 1.0000\n",
            "Epoch 157/300\n",
            "1/1 [==============================] - 0s 8ms/step - loss: 0.1730 - binary_accuracy: 1.0000\n",
            "Epoch 158/300\n",
            "1/1 [==============================] - 0s 7ms/step - loss: 0.1725 - binary_accuracy: 1.0000\n",
            "Epoch 159/300\n",
            "1/1 [==============================] - 0s 7ms/step - loss: 0.1720 - binary_accuracy: 1.0000\n",
            "Epoch 160/300\n",
            "1/1 [==============================] - 0s 6ms/step - loss: 0.1716 - binary_accuracy: 1.0000\n",
            "Epoch 161/300\n",
            "1/1 [==============================] - 0s 6ms/step - loss: 0.1711 - binary_accuracy: 1.0000\n",
            "Epoch 162/300\n",
            "1/1 [==============================] - 0s 7ms/step - loss: 0.1706 - binary_accuracy: 1.0000\n",
            "Epoch 163/300\n",
            "1/1 [==============================] - 0s 6ms/step - loss: 0.1701 - binary_accuracy: 1.0000\n",
            "Epoch 164/300\n",
            "1/1 [==============================] - 0s 8ms/step - loss: 0.1697 - binary_accuracy: 1.0000\n",
            "Epoch 165/300\n",
            "1/1 [==============================] - 0s 6ms/step - loss: 0.1692 - binary_accuracy: 1.0000\n",
            "Epoch 166/300\n",
            "1/1 [==============================] - 0s 9ms/step - loss: 0.1687 - binary_accuracy: 1.0000\n",
            "Epoch 167/300\n",
            "1/1 [==============================] - 0s 6ms/step - loss: 0.1682 - binary_accuracy: 1.0000\n",
            "Epoch 168/300\n",
            "1/1 [==============================] - 0s 13ms/step - loss: 0.1678 - binary_accuracy: 1.0000\n",
            "Epoch 169/300\n",
            "1/1 [==============================] - 0s 9ms/step - loss: 0.1673 - binary_accuracy: 1.0000\n",
            "Epoch 170/300\n",
            "1/1 [==============================] - 0s 5ms/step - loss: 0.1668 - binary_accuracy: 1.0000\n",
            "Epoch 171/300\n",
            "1/1 [==============================] - 0s 8ms/step - loss: 0.1663 - binary_accuracy: 1.0000\n",
            "Epoch 172/300\n",
            "1/1 [==============================] - 0s 14ms/step - loss: 0.1659 - binary_accuracy: 1.0000\n",
            "Epoch 173/300\n",
            "1/1 [==============================] - 0s 10ms/step - loss: 0.1654 - binary_accuracy: 1.0000\n",
            "Epoch 174/300\n",
            "1/1 [==============================] - 0s 12ms/step - loss: 0.1649 - binary_accuracy: 1.0000\n",
            "Epoch 175/300\n",
            "1/1 [==============================] - 0s 10ms/step - loss: 0.1644 - binary_accuracy: 1.0000\n",
            "Epoch 176/300\n",
            "1/1 [==============================] - 0s 15ms/step - loss: 0.1640 - binary_accuracy: 1.0000\n",
            "Epoch 177/300\n",
            "1/1 [==============================] - 0s 10ms/step - loss: 0.1635 - binary_accuracy: 1.0000\n",
            "Epoch 178/300\n",
            "1/1 [==============================] - 0s 7ms/step - loss: 0.1630 - binary_accuracy: 1.0000\n",
            "Epoch 179/300\n",
            "1/1 [==============================] - 0s 6ms/step - loss: 0.1625 - binary_accuracy: 1.0000\n",
            "Epoch 180/300\n",
            "1/1 [==============================] - 0s 6ms/step - loss: 0.1621 - binary_accuracy: 1.0000\n",
            "Epoch 181/300\n",
            "1/1 [==============================] - 0s 12ms/step - loss: 0.1616 - binary_accuracy: 1.0000\n",
            "Epoch 182/300\n",
            "1/1 [==============================] - 0s 10ms/step - loss: 0.1611 - binary_accuracy: 1.0000\n",
            "Epoch 183/300\n",
            "1/1 [==============================] - 0s 6ms/step - loss: 0.1606 - binary_accuracy: 1.0000\n",
            "Epoch 184/300\n",
            "1/1 [==============================] - 0s 11ms/step - loss: 0.1602 - binary_accuracy: 1.0000\n",
            "Epoch 185/300\n",
            "1/1 [==============================] - 0s 5ms/step - loss: 0.1597 - binary_accuracy: 1.0000\n",
            "Epoch 186/300\n",
            "1/1 [==============================] - 0s 9ms/step - loss: 0.1592 - binary_accuracy: 1.0000\n",
            "Epoch 187/300\n",
            "1/1 [==============================] - 0s 7ms/step - loss: 0.1588 - binary_accuracy: 1.0000\n",
            "Epoch 188/300\n",
            "1/1 [==============================] - 0s 6ms/step - loss: 0.1583 - binary_accuracy: 1.0000\n",
            "Epoch 189/300\n",
            "1/1 [==============================] - 0s 7ms/step - loss: 0.1578 - binary_accuracy: 1.0000\n",
            "Epoch 190/300\n",
            "1/1 [==============================] - 0s 14ms/step - loss: 0.1573 - binary_accuracy: 1.0000\n",
            "Epoch 191/300\n",
            "1/1 [==============================] - 0s 7ms/step - loss: 0.1569 - binary_accuracy: 1.0000\n",
            "Epoch 192/300\n",
            "1/1 [==============================] - 0s 6ms/step - loss: 0.1564 - binary_accuracy: 1.0000\n",
            "Epoch 193/300\n",
            "1/1 [==============================] - 0s 10ms/step - loss: 0.1559 - binary_accuracy: 1.0000\n",
            "Epoch 194/300\n",
            "1/1 [==============================] - 0s 11ms/step - loss: 0.1555 - binary_accuracy: 1.0000\n",
            "Epoch 195/300\n",
            "1/1 [==============================] - 0s 10ms/step - loss: 0.1550 - binary_accuracy: 1.0000\n",
            "Epoch 196/300\n",
            "1/1 [==============================] - 0s 6ms/step - loss: 0.1545 - binary_accuracy: 1.0000\n",
            "Epoch 197/300\n",
            "1/1 [==============================] - 0s 9ms/step - loss: 0.1540 - binary_accuracy: 1.0000\n",
            "Epoch 198/300\n",
            "1/1 [==============================] - 0s 7ms/step - loss: 0.1536 - binary_accuracy: 1.0000\n",
            "Epoch 199/300\n",
            "1/1 [==============================] - 0s 13ms/step - loss: 0.1531 - binary_accuracy: 1.0000\n",
            "Epoch 200/300\n",
            "1/1 [==============================] - 0s 12ms/step - loss: 0.1526 - binary_accuracy: 1.0000\n",
            "Epoch 201/300\n",
            "1/1 [==============================] - 0s 8ms/step - loss: 0.1522 - binary_accuracy: 1.0000\n",
            "Epoch 202/300\n",
            "1/1 [==============================] - 0s 6ms/step - loss: 0.1517 - binary_accuracy: 1.0000\n",
            "Epoch 203/300\n",
            "1/1 [==============================] - 0s 7ms/step - loss: 0.1512 - binary_accuracy: 1.0000\n",
            "Epoch 204/300\n",
            "1/1 [==============================] - 0s 12ms/step - loss: 0.1508 - binary_accuracy: 1.0000\n",
            "Epoch 205/300\n",
            "1/1 [==============================] - 0s 10ms/step - loss: 0.1503 - binary_accuracy: 1.0000\n",
            "Epoch 206/300\n",
            "1/1 [==============================] - 0s 7ms/step - loss: 0.1498 - binary_accuracy: 1.0000\n",
            "Epoch 207/300\n",
            "1/1 [==============================] - 0s 6ms/step - loss: 0.1494 - binary_accuracy: 1.0000\n",
            "Epoch 208/300\n",
            "1/1 [==============================] - 0s 14ms/step - loss: 0.1489 - binary_accuracy: 1.0000\n",
            "Epoch 209/300\n",
            "1/1 [==============================] - 0s 15ms/step - loss: 0.1484 - binary_accuracy: 1.0000\n",
            "Epoch 210/300\n",
            "1/1 [==============================] - 0s 6ms/step - loss: 0.1480 - binary_accuracy: 1.0000\n",
            "Epoch 211/300\n",
            "1/1 [==============================] - 0s 6ms/step - loss: 0.1475 - binary_accuracy: 1.0000\n",
            "Epoch 212/300\n",
            "1/1 [==============================] - 0s 16ms/step - loss: 0.1471 - binary_accuracy: 1.0000\n",
            "Epoch 213/300\n",
            "1/1 [==============================] - 0s 6ms/step - loss: 0.1466 - binary_accuracy: 1.0000\n",
            "Epoch 214/300\n",
            "1/1 [==============================] - 0s 6ms/step - loss: 0.1461 - binary_accuracy: 1.0000\n",
            "Epoch 215/300\n",
            "1/1 [==============================] - 0s 12ms/step - loss: 0.1457 - binary_accuracy: 1.0000\n",
            "Epoch 216/300\n",
            "1/1 [==============================] - 0s 7ms/step - loss: 0.1452 - binary_accuracy: 1.0000\n",
            "Epoch 217/300\n",
            "1/1 [==============================] - 0s 9ms/step - loss: 0.1448 - binary_accuracy: 1.0000\n",
            "Epoch 218/300\n",
            "1/1 [==============================] - 0s 8ms/step - loss: 0.1443 - binary_accuracy: 1.0000\n",
            "Epoch 219/300\n",
            "1/1 [==============================] - 0s 8ms/step - loss: 0.1439 - binary_accuracy: 1.0000\n",
            "Epoch 220/300\n",
            "1/1 [==============================] - 0s 6ms/step - loss: 0.1434 - binary_accuracy: 1.0000\n",
            "Epoch 221/300\n",
            "1/1 [==============================] - 0s 15ms/step - loss: 0.1429 - binary_accuracy: 1.0000\n",
            "Epoch 222/300\n",
            "1/1 [==============================] - 0s 7ms/step - loss: 0.1425 - binary_accuracy: 1.0000\n",
            "Epoch 223/300\n",
            "1/1 [==============================] - 0s 6ms/step - loss: 0.1420 - binary_accuracy: 1.0000\n",
            "Epoch 224/300\n",
            "1/1 [==============================] - 0s 11ms/step - loss: 0.1416 - binary_accuracy: 1.0000\n",
            "Epoch 225/300\n",
            "1/1 [==============================] - 0s 7ms/step - loss: 0.1411 - binary_accuracy: 1.0000\n",
            "Epoch 226/300\n",
            "1/1 [==============================] - 0s 6ms/step - loss: 0.1407 - binary_accuracy: 1.0000\n",
            "Epoch 227/300\n",
            "1/1 [==============================] - 0s 6ms/step - loss: 0.1402 - binary_accuracy: 1.0000\n",
            "Epoch 228/300\n",
            "1/1 [==============================] - 0s 7ms/step - loss: 0.1398 - binary_accuracy: 1.0000\n",
            "Epoch 229/300\n",
            "1/1 [==============================] - 0s 8ms/step - loss: 0.1393 - binary_accuracy: 1.0000\n",
            "Epoch 230/300\n",
            "1/1 [==============================] - 0s 11ms/step - loss: 0.1389 - binary_accuracy: 1.0000\n",
            "Epoch 231/300\n",
            "1/1 [==============================] - 0s 8ms/step - loss: 0.1385 - binary_accuracy: 1.0000\n",
            "Epoch 232/300\n",
            "1/1 [==============================] - 0s 7ms/step - loss: 0.1380 - binary_accuracy: 1.0000\n",
            "Epoch 233/300\n",
            "1/1 [==============================] - 0s 8ms/step - loss: 0.1376 - binary_accuracy: 1.0000\n",
            "Epoch 234/300\n",
            "1/1 [==============================] - 0s 7ms/step - loss: 0.1371 - binary_accuracy: 1.0000\n",
            "Epoch 235/300\n",
            "1/1 [==============================] - 0s 6ms/step - loss: 0.1367 - binary_accuracy: 1.0000\n",
            "Epoch 236/300\n",
            "1/1 [==============================] - 0s 10ms/step - loss: 0.1363 - binary_accuracy: 1.0000\n",
            "Epoch 237/300\n",
            "1/1 [==============================] - 0s 7ms/step - loss: 0.1358 - binary_accuracy: 1.0000\n",
            "Epoch 238/300\n",
            "1/1 [==============================] - 0s 7ms/step - loss: 0.1354 - binary_accuracy: 1.0000\n",
            "Epoch 239/300\n",
            "1/1 [==============================] - 0s 6ms/step - loss: 0.1349 - binary_accuracy: 1.0000\n",
            "Epoch 240/300\n",
            "1/1 [==============================] - 0s 7ms/step - loss: 0.1345 - binary_accuracy: 1.0000\n",
            "Epoch 241/300\n",
            "1/1 [==============================] - 0s 11ms/step - loss: 0.1341 - binary_accuracy: 1.0000\n",
            "Epoch 242/300\n",
            "1/1 [==============================] - 0s 9ms/step - loss: 0.1336 - binary_accuracy: 1.0000\n",
            "Epoch 243/300\n",
            "1/1 [==============================] - 0s 7ms/step - loss: 0.1332 - binary_accuracy: 1.0000\n",
            "Epoch 244/300\n",
            "1/1 [==============================] - 0s 9ms/step - loss: 0.1328 - binary_accuracy: 1.0000\n",
            "Epoch 245/300\n",
            "1/1 [==============================] - 0s 8ms/step - loss: 0.1324 - binary_accuracy: 1.0000\n",
            "Epoch 246/300\n",
            "1/1 [==============================] - 0s 5ms/step - loss: 0.1319 - binary_accuracy: 1.0000\n",
            "Epoch 247/300\n",
            "1/1 [==============================] - 0s 11ms/step - loss: 0.1315 - binary_accuracy: 1.0000\n",
            "Epoch 248/300\n",
            "1/1 [==============================] - 0s 7ms/step - loss: 0.1311 - binary_accuracy: 1.0000\n",
            "Epoch 249/300\n",
            "1/1 [==============================] - 0s 9ms/step - loss: 0.1307 - binary_accuracy: 1.0000\n",
            "Epoch 250/300\n",
            "1/1 [==============================] - 0s 7ms/step - loss: 0.1303 - binary_accuracy: 1.0000\n",
            "Epoch 251/300\n",
            "1/1 [==============================] - 0s 10ms/step - loss: 0.1298 - binary_accuracy: 1.0000\n",
            "Epoch 252/300\n",
            "1/1 [==============================] - 0s 6ms/step - loss: 0.1294 - binary_accuracy: 1.0000\n",
            "Epoch 253/300\n",
            "1/1 [==============================] - 0s 9ms/step - loss: 0.1290 - binary_accuracy: 1.0000\n",
            "Epoch 254/300\n",
            "1/1 [==============================] - 0s 7ms/step - loss: 0.1286 - binary_accuracy: 1.0000\n",
            "Epoch 255/300\n",
            "1/1 [==============================] - 0s 9ms/step - loss: 0.1282 - binary_accuracy: 1.0000\n",
            "Epoch 256/300\n",
            "1/1 [==============================] - 0s 6ms/step - loss: 0.1278 - binary_accuracy: 1.0000\n",
            "Epoch 257/300\n",
            "1/1 [==============================] - 0s 6ms/step - loss: 0.1274 - binary_accuracy: 1.0000\n",
            "Epoch 258/300\n",
            "1/1 [==============================] - 0s 8ms/step - loss: 0.1270 - binary_accuracy: 1.0000\n",
            "Epoch 259/300\n",
            "1/1 [==============================] - 0s 6ms/step - loss: 0.1265 - binary_accuracy: 1.0000\n",
            "Epoch 260/300\n",
            "1/1 [==============================] - 0s 7ms/step - loss: 0.1261 - binary_accuracy: 1.0000\n",
            "Epoch 261/300\n",
            "1/1 [==============================] - 0s 6ms/step - loss: 0.1257 - binary_accuracy: 1.0000\n",
            "Epoch 262/300\n",
            "1/1 [==============================] - 0s 11ms/step - loss: 0.1253 - binary_accuracy: 1.0000\n",
            "Epoch 263/300\n",
            "1/1 [==============================] - 0s 6ms/step - loss: 0.1249 - binary_accuracy: 1.0000\n",
            "Epoch 264/300\n",
            "1/1 [==============================] - 0s 6ms/step - loss: 0.1245 - binary_accuracy: 1.0000\n",
            "Epoch 265/300\n",
            "1/1 [==============================] - 0s 11ms/step - loss: 0.1241 - binary_accuracy: 1.0000\n",
            "Epoch 266/300\n",
            "1/1 [==============================] - 0s 11ms/step - loss: 0.1238 - binary_accuracy: 1.0000\n",
            "Epoch 267/300\n",
            "1/1 [==============================] - 0s 9ms/step - loss: 0.1234 - binary_accuracy: 1.0000\n",
            "Epoch 268/300\n",
            "1/1 [==============================] - 0s 6ms/step - loss: 0.1230 - binary_accuracy: 1.0000\n",
            "Epoch 269/300\n",
            "1/1 [==============================] - 0s 11ms/step - loss: 0.1226 - binary_accuracy: 1.0000\n",
            "Epoch 270/300\n",
            "1/1 [==============================] - 0s 7ms/step - loss: 0.1222 - binary_accuracy: 1.0000\n",
            "Epoch 271/300\n",
            "1/1 [==============================] - 0s 9ms/step - loss: 0.1218 - binary_accuracy: 1.0000\n",
            "Epoch 272/300\n",
            "1/1 [==============================] - 0s 7ms/step - loss: 0.1214 - binary_accuracy: 1.0000\n",
            "Epoch 273/300\n",
            "1/1 [==============================] - 0s 10ms/step - loss: 0.1210 - binary_accuracy: 1.0000\n",
            "Epoch 274/300\n",
            "1/1 [==============================] - 0s 13ms/step - loss: 0.1207 - binary_accuracy: 1.0000\n",
            "Epoch 275/300\n",
            "1/1 [==============================] - 0s 8ms/step - loss: 0.1203 - binary_accuracy: 1.0000\n",
            "Epoch 276/300\n",
            "1/1 [==============================] - 0s 7ms/step - loss: 0.1199 - binary_accuracy: 1.0000\n",
            "Epoch 277/300\n",
            "1/1 [==============================] - 0s 7ms/step - loss: 0.1195 - binary_accuracy: 1.0000\n",
            "Epoch 278/300\n",
            "1/1 [==============================] - 0s 6ms/step - loss: 0.1191 - binary_accuracy: 1.0000\n",
            "Epoch 279/300\n",
            "1/1 [==============================] - 0s 6ms/step - loss: 0.1188 - binary_accuracy: 1.0000\n",
            "Epoch 280/300\n",
            "1/1 [==============================] - 0s 6ms/step - loss: 0.1184 - binary_accuracy: 1.0000\n",
            "Epoch 281/300\n",
            "1/1 [==============================] - 0s 12ms/step - loss: 0.1180 - binary_accuracy: 1.0000\n",
            "Epoch 282/300\n",
            "1/1 [==============================] - 0s 9ms/step - loss: 0.1177 - binary_accuracy: 1.0000\n",
            "Epoch 283/300\n",
            "1/1 [==============================] - 0s 7ms/step - loss: 0.1173 - binary_accuracy: 1.0000\n",
            "Epoch 284/300\n",
            "1/1 [==============================] - 0s 12ms/step - loss: 0.1169 - binary_accuracy: 1.0000\n",
            "Epoch 285/300\n",
            "1/1 [==============================] - 0s 6ms/step - loss: 0.1166 - binary_accuracy: 1.0000\n",
            "Epoch 286/300\n",
            "1/1 [==============================] - 0s 12ms/step - loss: 0.1162 - binary_accuracy: 1.0000\n",
            "Epoch 287/300\n",
            "1/1 [==============================] - 0s 11ms/step - loss: 0.1158 - binary_accuracy: 1.0000\n",
            "Epoch 288/300\n",
            "1/1 [==============================] - 0s 10ms/step - loss: 0.1155 - binary_accuracy: 1.0000\n",
            "Epoch 289/300\n",
            "1/1 [==============================] - 0s 9ms/step - loss: 0.1151 - binary_accuracy: 1.0000\n",
            "Epoch 290/300\n",
            "1/1 [==============================] - 0s 11ms/step - loss: 0.1147 - binary_accuracy: 1.0000\n",
            "Epoch 291/300\n",
            "1/1 [==============================] - 0s 9ms/step - loss: 0.1144 - binary_accuracy: 1.0000\n",
            "Epoch 292/300\n",
            "1/1 [==============================] - 0s 6ms/step - loss: 0.1140 - binary_accuracy: 1.0000\n",
            "Epoch 293/300\n",
            "1/1 [==============================] - 0s 6ms/step - loss: 0.1137 - binary_accuracy: 1.0000\n",
            "Epoch 294/300\n",
            "1/1 [==============================] - 0s 6ms/step - loss: 0.1133 - binary_accuracy: 1.0000\n",
            "Epoch 295/300\n",
            "1/1 [==============================] - 0s 8ms/step - loss: 0.1130 - binary_accuracy: 1.0000\n",
            "Epoch 296/300\n",
            "1/1 [==============================] - 0s 6ms/step - loss: 0.1126 - binary_accuracy: 1.0000\n",
            "Epoch 297/300\n",
            "1/1 [==============================] - 0s 9ms/step - loss: 0.1123 - binary_accuracy: 1.0000\n",
            "Epoch 298/300\n",
            "1/1 [==============================] - 0s 15ms/step - loss: 0.1119 - binary_accuracy: 1.0000\n",
            "Epoch 299/300\n",
            "1/1 [==============================] - 0s 6ms/step - loss: 0.1116 - binary_accuracy: 1.0000\n",
            "Epoch 300/300\n",
            "1/1 [==============================] - 0s 7ms/step - loss: 0.1112 - binary_accuracy: 1.0000\n"
          ]
        },
        {
          "output_type": "execute_result",
          "data": {
            "text/plain": [
              "<keras.callbacks.History at 0x7f92f7488d90>"
            ]
          },
          "metadata": {},
          "execution_count": 48
        }
      ]
    },
    {
      "cell_type": "code",
      "metadata": {
        "colab": {
          "base_uri": "https://localhost:8080/"
        },
        "id": "Kj2gQqFEVXfT",
        "outputId": "a579ddd2-622e-4ef7-ecc4-a52301874076"
      },
      "source": [
        "model.predict(x_train)"
      ],
      "execution_count": 51,
      "outputs": [
        {
          "output_type": "execute_result",
          "data": {
            "text/plain": [
              "array([[1.2653172e-03, 5.7804585e-04],\n",
              "       [3.0958891e-02, 9.2137456e-01],\n",
              "       [4.9085021e-02, 9.1213119e-01],\n",
              "       [6.3104337e-01, 8.4425861e-01]], dtype=float32)"
            ]
          },
          "metadata": {},
          "execution_count": 51
        }
      ]
    },
    {
      "cell_type": "code",
      "metadata": {
        "colab": {
          "base_uri": "https://localhost:8080/"
        },
        "id": "ZzsKeLX_5MGH",
        "outputId": "d23e1e3d-4a54-4774-8c8c-d79f4ecc35dc"
      },
      "source": [
        "# 데이터 준비\n",
        "x_input = [\n",
        "    [1, 2],\n",
        "    [1, 5],\n",
        "    [2, 2],\n",
        "    [2, 9],\n",
        "    [3, 1],\n",
        "    [3, 7],\n",
        "    [4, 3],\n",
        "    [4, 8],\n",
        "    [5, 8],\n",
        "    [5, 3],\n",
        "    [6, 5],\n",
        "    [6, 9],\n",
        "    [7, 3],\n",
        "    [7, 1],\n",
        "    [8, 5],\n",
        "    [8, 8],\n",
        "    [9, 4],\n",
        "    [9, 3],\n",
        "]\n",
        "y_label = [[sum(e)] for e in x_input]\n",
        "y_label"
      ],
      "execution_count": null,
      "outputs": [
        {
          "output_type": "execute_result",
          "data": {
            "text/plain": [
              "[[3],\n",
              " [6],\n",
              " [4],\n",
              " [11],\n",
              " [4],\n",
              " [10],\n",
              " [7],\n",
              " [12],\n",
              " [13],\n",
              " [8],\n",
              " [11],\n",
              " [15],\n",
              " [10],\n",
              " [8],\n",
              " [13],\n",
              " [16],\n",
              " [13],\n",
              " [12]]"
            ]
          },
          "metadata": {},
          "execution_count": 79
        }
      ]
    },
    {
      "cell_type": "code",
      "metadata": {
        "id": "8yRp1u9e7IuA"
      },
      "source": [
        "X = tf.keras.layers.Input(shape=[2])\n",
        "H = tf.keras.layers.Dense(8, activation=\"swish\")(X)\n",
        "H = tf.keras.layers.Dense(8, activation=\"swish\")(H)\n",
        "H = tf.keras.layers.Dense(8, activation=\"swish\")(H)\n",
        "Y = tf.keras.layers.Dense(1)(H)\n",
        "model = tf.keras.models.Model(X, Y)\n",
        "model.compile(loss=\"mse\", metrics=\"accuracy\")"
      ],
      "execution_count": null,
      "outputs": []
    },
    {
      "cell_type": "code",
      "metadata": {
        "colab": {
          "base_uri": "https://localhost:8080/"
        },
        "id": "GLC0Z1xt7Nuu",
        "outputId": "defffb11-e670-40e6-bc28-d5da55cfc5ce"
      },
      "source": [
        "model.fit(x_input, y_label, epochs=1000, verbose=0)\n",
        "model.fit(x_input, y_label, epochs=10)"
      ],
      "execution_count": null,
      "outputs": [
        {
          "output_type": "stream",
          "name": "stdout",
          "text": [
            "Epoch 1/10\n",
            "1/1 [==============================] - 0s 7ms/step - loss: 0.0061 - accuracy: 0.0000e+00\n",
            "Epoch 2/10\n",
            "1/1 [==============================] - 0s 6ms/step - loss: 0.0061 - accuracy: 0.0000e+00\n",
            "Epoch 3/10\n",
            "1/1 [==============================] - 0s 6ms/step - loss: 0.0061 - accuracy: 0.0000e+00\n",
            "Epoch 4/10\n",
            "1/1 [==============================] - 0s 6ms/step - loss: 0.0061 - accuracy: 0.0000e+00\n",
            "Epoch 5/10\n",
            "1/1 [==============================] - 0s 6ms/step - loss: 0.0061 - accuracy: 0.0000e+00\n",
            "Epoch 6/10\n",
            "1/1 [==============================] - 0s 6ms/step - loss: 0.0061 - accuracy: 0.0000e+00\n",
            "Epoch 7/10\n",
            "1/1 [==============================] - 0s 8ms/step - loss: 0.0061 - accuracy: 0.0000e+00\n",
            "Epoch 8/10\n",
            "1/1 [==============================] - 0s 8ms/step - loss: 0.0061 - accuracy: 0.0000e+00\n",
            "Epoch 9/10\n",
            "1/1 [==============================] - 0s 6ms/step - loss: 0.0061 - accuracy: 0.0000e+00\n",
            "Epoch 10/10\n",
            "1/1 [==============================] - 0s 6ms/step - loss: 0.0061 - accuracy: 0.0000e+00\n"
          ]
        },
        {
          "output_type": "execute_result",
          "data": {
            "text/plain": [
              "<keras.callbacks.History at 0x7f1caf8d9250>"
            ]
          },
          "metadata": {},
          "execution_count": 81
        }
      ]
    },
    {
      "cell_type": "code",
      "metadata": {
        "colab": {
          "base_uri": "https://localhost:8080/"
        },
        "id": "BRIXNYNI7UQI",
        "outputId": "d92654f1-70f2-40f5-dda4-68630d60e08e"
      },
      "source": [
        "model.predict([[100,100]])"
      ],
      "execution_count": 50,
      "outputs": [
        {
          "output_type": "execute_result",
          "data": {
            "text/plain": [
              "array([[0.5103896, 0.6891408]], dtype=float32)"
            ]
          },
          "metadata": {},
          "execution_count": 50
        }
      ]
    },
    {
      "cell_type": "markdown",
      "metadata": {
        "id": "6yQ8IuRsuqB3"
      },
      "source": [
        "## '함수형'의 의미\n",
        "- 절차형 프로그래밍\n",
        "- 객체지향형 프로그래밍\n",
        "- 함수형 프로그래밍"
      ]
    },
    {
      "cell_type": "code",
      "metadata": {
        "id": "JfQRRirs7oeB",
        "colab": {
          "base_uri": "https://localhost:8080/"
        },
        "outputId": "57c3a9af-e26a-4222-8601-491e1c6a4321"
      },
      "source": [
        "def add(a, b):\n",
        "    return a + b\n",
        "print(add(1, 3))\n",
        "print(type(add))"
      ],
      "execution_count": 2,
      "outputs": [
        {
          "output_type": "stream",
          "name": "stdout",
          "text": [
            "4\n",
            "<class 'function'>\n"
          ]
        }
      ]
    },
    {
      "cell_type": "code",
      "metadata": {
        "colab": {
          "base_uri": "https://localhost:8080/"
        },
        "id": "zSB6tPJKu2tF",
        "outputId": "8b963eee-892e-48d1-8ab0-e5c28fb7e371"
      },
      "source": [
        "number = 1\n",
        "print(number)\n",
        "print(type(number))"
      ],
      "execution_count": 3,
      "outputs": [
        {
          "output_type": "stream",
          "name": "stdout",
          "text": [
            "1\n",
            "<class 'int'>\n"
          ]
        }
      ]
    },
    {
      "cell_type": "code",
      "metadata": {
        "colab": {
          "base_uri": "https://localhost:8080/"
        },
        "id": "ptFTJB57u3Yx",
        "outputId": "a439a4ab-3927-47cc-c467-a195e2c0b11a"
      },
      "source": [
        "def add(a, b):\n",
        "    return a + b\n",
        "\n",
        "def minus(a, b):\n",
        "    return a - b\n",
        "\n",
        "def func(f, a, b):\n",
        "    return f(a, b)\n",
        "\n",
        "print(func(add, 3, 2))\n",
        "print(func(minus, 3, 2))"
      ],
      "execution_count": 4,
      "outputs": [
        {
          "output_type": "stream",
          "name": "stdout",
          "text": [
            "5\n",
            "1\n"
          ]
        }
      ]
    },
    {
      "cell_type": "code",
      "metadata": {
        "colab": {
          "base_uri": "https://localhost:8080/"
        },
        "id": "o46za-Gfu4zy",
        "outputId": "c600cb3c-68ae-4325-bf6f-4be45cd60a62"
      },
      "source": [
        "# lambda\n",
        "add = lambda a, b: a + b\n",
        "minus = lambda a, b: a - b\n",
        "def func(f, a, b):\n",
        "    return f(a, b)\n",
        "\n",
        "print(func(add, 3, 2))\n",
        "print(func(minus, 3, 2))\n",
        "print(func(lambda a, b: a * b, 3, 2))\n",
        "print(func(lambda a, b: a / b, 3, 2))"
      ],
      "execution_count": 5,
      "outputs": [
        {
          "output_type": "stream",
          "name": "stdout",
          "text": [
            "5\n",
            "1\n",
            "6\n",
            "1.5\n"
          ]
        }
      ]
    },
    {
      "cell_type": "code",
      "metadata": {
        "colab": {
          "base_uri": "https://localhost:8080/"
        },
        "id": "JKlAWKocu7E1",
        "outputId": "6ff8cda3-45db-4eee-b8dd-a3765248d6f8"
      },
      "source": [
        "def get_func(what='add'):\n",
        "    if what == 'minus':\n",
        "        return lambda a, b: a - b\n",
        "    return lambda a, b: a + b\n",
        "\n",
        "print(get_func()(1, 3))\n",
        "print(get_func('add')(1, 3))\n",
        "print(get_func('minus')(1, 3))"
      ],
      "execution_count": 6,
      "outputs": [
        {
          "output_type": "stream",
          "name": "stdout",
          "text": [
            "4\n",
            "4\n",
            "-2\n"
          ]
        }
      ]
    },
    {
      "cell_type": "code",
      "metadata": {
        "colab": {
          "base_uri": "https://localhost:8080/"
        },
        "id": "tqst7rQXvKDY",
        "outputId": "fd078194-4080-47aa-e08d-04c231f976b5"
      },
      "source": [
        "a = \"abac\"\n",
        "print(dir(a))"
      ],
      "execution_count": 7,
      "outputs": [
        {
          "output_type": "stream",
          "name": "stdout",
          "text": [
            "['__add__', '__class__', '__contains__', '__delattr__', '__dir__', '__doc__', '__eq__', '__format__', '__ge__', '__getattribute__', '__getitem__', '__getnewargs__', '__gt__', '__hash__', '__init__', '__init_subclass__', '__iter__', '__le__', '__len__', '__lt__', '__mod__', '__mul__', '__ne__', '__new__', '__reduce__', '__reduce_ex__', '__repr__', '__rmod__', '__rmul__', '__setattr__', '__sizeof__', '__str__', '__subclasshook__', 'capitalize', 'casefold', 'center', 'count', 'encode', 'endswith', 'expandtabs', 'find', 'format', 'format_map', 'index', 'isalnum', 'isalpha', 'isascii', 'isdecimal', 'isdigit', 'isidentifier', 'islower', 'isnumeric', 'isprintable', 'isspace', 'istitle', 'isupper', 'join', 'ljust', 'lower', 'lstrip', 'maketrans', 'partition', 'replace', 'rfind', 'rindex', 'rjust', 'rpartition', 'rsplit', 'rstrip', 'split', 'splitlines', 'startswith', 'strip', 'swapcase', 'title', 'translate', 'upper', 'zfill']\n"
          ]
        }
      ]
    },
    {
      "cell_type": "code",
      "metadata": {
        "colab": {
          "base_uri": "https://localhost:8080/"
        },
        "id": "zMfw5S2ivOPk",
        "outputId": "e0186437-2c13-4998-ba5e-645d9779e6ae"
      },
      "source": [
        "b = [1, 2, 3]\n",
        "print(dir(b))"
      ],
      "execution_count": 8,
      "outputs": [
        {
          "output_type": "stream",
          "name": "stdout",
          "text": [
            "['__add__', '__class__', '__contains__', '__delattr__', '__delitem__', '__dir__', '__doc__', '__eq__', '__format__', '__ge__', '__getattribute__', '__getitem__', '__gt__', '__hash__', '__iadd__', '__imul__', '__init__', '__init_subclass__', '__iter__', '__le__', '__len__', '__lt__', '__mul__', '__ne__', '__new__', '__reduce__', '__reduce_ex__', '__repr__', '__reversed__', '__rmul__', '__setattr__', '__setitem__', '__sizeof__', '__str__', '__subclasshook__', 'append', 'clear', 'copy', 'count', 'extend', 'index', 'insert', 'pop', 'remove', 'reverse', 'sort']\n"
          ]
        }
      ]
    },
    {
      "cell_type": "code",
      "metadata": {
        "colab": {
          "base_uri": "https://localhost:8080/"
        },
        "id": "fO0bXLYvvQAP",
        "outputId": "d293016f-8987-40eb-e793-e4a939b0686f"
      },
      "source": [
        "print(a.count('a'))\n",
        "print(b.count(1))"
      ],
      "execution_count": 9,
      "outputs": [
        {
          "output_type": "stream",
          "name": "stdout",
          "text": [
            "2\n",
            "1\n"
          ]
        }
      ]
    },
    {
      "cell_type": "code",
      "metadata": {
        "colab": {
          "base_uri": "https://localhost:8080/"
        },
        "id": "anMYTevzvRFp",
        "outputId": "3e58f3b8-09dc-4c6b-8989-03f6fc55b9db"
      },
      "source": [
        "users = [\n",
        "    ['이숙번', 70, 80, 90],\n",
        "    ['이고잉', 82, 85, 83],\n",
        "    ['강두루', 56, 91, 90],\n",
        "]\n",
        "\n",
        "sorted(users, key=lambda x: sum(x[1:]))#, reverse=True)"
      ],
      "execution_count": 52,
      "outputs": [
        {
          "output_type": "execute_result",
          "data": {
            "text/plain": [
              "[['강두루', 56, 91, 90], ['이숙번', 70, 80, 90], ['이고잉', 82, 85, 83]]"
            ]
          },
          "metadata": {},
          "execution_count": 52
        }
      ]
    },
    {
      "cell_type": "markdown",
      "metadata": {
        "id": "3V7nPuWWvWtR"
      },
      "source": [
        "## 보스턴 집값 예측 모델"
      ]
    },
    {
      "cell_type": "code",
      "metadata": {
        "colab": {
          "base_uri": "https://localhost:8080/"
        },
        "id": "58qBw02TvSQd",
        "outputId": "3c23559e-bdad-412f-c0ae-b18812d73441"
      },
      "source": [
        "import tensorflow as tf\n",
        "import pandas as pd\n",
        "\n",
        "boston = pd.read_csv(\"https://raw.githubusercontent.com/blackdew/ml-tensorflow/master/data/csv/boston.csv\")\n",
        "print(boston.columns)\n",
        "x_boston = boston.drop(['medv'], axis=1)\n",
        "y_boston = boston[['medv']]\n",
        "print(x_boston.shape, y_boston.shape)"
      ],
      "execution_count": 19,
      "outputs": [
        {
          "output_type": "stream",
          "name": "stdout",
          "text": [
            "Index(['crim', 'zn', 'indus', 'chas', 'nox', 'rm', 'age', 'dis', 'rad', 'tax',\n",
            "       'ptratio', 'b', 'lstat', 'medv'],\n",
            "      dtype='object')\n",
            "(506, 13) (506, 1)\n"
          ]
        }
      ]
    },
    {
      "cell_type": "code",
      "metadata": {
        "id": "BKYm5DlryFJ2"
      },
      "source": [
        "X = tf.keras.layers.Input(shape=[13])\n",
        "H = tf.keras.layers.Dense(8, activation=tf.keras.activations.swish)(X)\n",
        "H = tf.keras.layers.Dense(8, activation=tf.keras.activations.swish)(H)\n",
        "H = tf.keras.layers.Dense(8, activation=tf.keras.activations.swish)(H)\n",
        "Y = tf.keras.layers.Dense(1)(H)\n",
        "\n",
        "model = tf.keras.models.Model(X, Y)\n",
        "model.compile(optimizer=tf.keras.optimizers.Adam(0.0001), loss=tf.keras.losses.mse)"
      ],
      "execution_count": 41,
      "outputs": []
    },
    {
      "cell_type": "code",
      "metadata": {
        "id": "lC3rYRf7128c"
      },
      "source": [
        "model.fit(x_train, y_train, epochs=100)"
      ],
      "execution_count": null,
      "outputs": []
    },
    {
      "cell_type": "markdown",
      "metadata": {
        "id": "sTTt2Yi_4fO5"
      },
      "source": [
        "### Train/Validation/Test\n",
        "\n",
        "* train: 학습용\n",
        "* validation: 모의고사용\n",
        "* test: 최종면접"
      ]
    },
    {
      "cell_type": "code",
      "metadata": {
        "colab": {
          "base_uri": "https://localhost:8080/"
        },
        "id": "59LcQk1I4o1Z",
        "outputId": "f6df624f-238b-468c-ba0b-ec318687611b"
      },
      "source": [
        "x_train, x_test = x_boston[:400], x_boston[400:]\n",
        "y_train, y_test = y_boston[:400], y_boston[400:]\n",
        "print(x_train.shape, x_test.shape)\n",
        "print(y_train.shape, y_test.shape)"
      ],
      "execution_count": 35,
      "outputs": [
        {
          "output_type": "stream",
          "name": "stdout",
          "text": [
            "(400, 13) (106, 13)\n",
            "(400, 1) (106, 1)\n"
          ]
        }
      ]
    },
    {
      "cell_type": "code",
      "metadata": {
        "colab": {
          "base_uri": "https://localhost:8080/"
        },
        "id": "F4vrr4z_5-TI",
        "outputId": "54f3d135-e303-4c79-83e4-d7ff4e63693a"
      },
      "source": [
        "result = model.fit(x_train, y_train, batch_size=128, epochs=500, validation_split=0.2, verbose=10)"
      ],
      "execution_count": 42,
      "outputs": [
        {
          "output_type": "stream",
          "name": "stdout",
          "text": [
            "Epoch 1/500\n",
            "Epoch 2/500\n",
            "Epoch 3/500\n",
            "Epoch 4/500\n",
            "Epoch 5/500\n",
            "Epoch 6/500\n",
            "Epoch 7/500\n",
            "Epoch 8/500\n",
            "Epoch 9/500\n",
            "Epoch 10/500\n",
            "Epoch 11/500\n",
            "Epoch 12/500\n",
            "Epoch 13/500\n",
            "Epoch 14/500\n",
            "Epoch 15/500\n",
            "Epoch 16/500\n",
            "Epoch 17/500\n",
            "Epoch 18/500\n",
            "Epoch 19/500\n",
            "Epoch 20/500\n",
            "Epoch 21/500\n",
            "Epoch 22/500\n",
            "Epoch 23/500\n",
            "Epoch 24/500\n",
            "Epoch 25/500\n",
            "Epoch 26/500\n",
            "Epoch 27/500\n",
            "Epoch 28/500\n",
            "Epoch 29/500\n",
            "Epoch 30/500\n",
            "Epoch 31/500\n",
            "Epoch 32/500\n",
            "Epoch 33/500\n",
            "Epoch 34/500\n",
            "Epoch 35/500\n",
            "Epoch 36/500\n",
            "Epoch 37/500\n",
            "Epoch 38/500\n",
            "Epoch 39/500\n",
            "Epoch 40/500\n",
            "Epoch 41/500\n",
            "Epoch 42/500\n",
            "Epoch 43/500\n",
            "Epoch 44/500\n",
            "Epoch 45/500\n",
            "Epoch 46/500\n",
            "Epoch 47/500\n",
            "Epoch 48/500\n",
            "Epoch 49/500\n",
            "Epoch 50/500\n",
            "Epoch 51/500\n",
            "Epoch 52/500\n",
            "Epoch 53/500\n",
            "Epoch 54/500\n",
            "Epoch 55/500\n",
            "Epoch 56/500\n",
            "Epoch 57/500\n",
            "Epoch 58/500\n",
            "Epoch 59/500\n",
            "Epoch 60/500\n",
            "Epoch 61/500\n",
            "Epoch 62/500\n",
            "Epoch 63/500\n",
            "Epoch 64/500\n",
            "Epoch 65/500\n",
            "Epoch 66/500\n",
            "Epoch 67/500\n",
            "Epoch 68/500\n",
            "Epoch 69/500\n",
            "Epoch 70/500\n",
            "Epoch 71/500\n",
            "Epoch 72/500\n",
            "Epoch 73/500\n",
            "Epoch 74/500\n",
            "Epoch 75/500\n",
            "Epoch 76/500\n",
            "Epoch 77/500\n",
            "Epoch 78/500\n",
            "Epoch 79/500\n",
            "Epoch 80/500\n",
            "Epoch 81/500\n",
            "Epoch 82/500\n",
            "Epoch 83/500\n",
            "Epoch 84/500\n",
            "Epoch 85/500\n",
            "Epoch 86/500\n",
            "Epoch 87/500\n",
            "Epoch 88/500\n",
            "Epoch 89/500\n",
            "Epoch 90/500\n",
            "Epoch 91/500\n",
            "Epoch 92/500\n",
            "Epoch 93/500\n",
            "Epoch 94/500\n",
            "Epoch 95/500\n",
            "Epoch 96/500\n",
            "Epoch 97/500\n",
            "Epoch 98/500\n",
            "Epoch 99/500\n",
            "Epoch 100/500\n",
            "Epoch 101/500\n",
            "Epoch 102/500\n",
            "Epoch 103/500\n",
            "Epoch 104/500\n",
            "Epoch 105/500\n",
            "Epoch 106/500\n",
            "Epoch 107/500\n",
            "Epoch 108/500\n",
            "Epoch 109/500\n",
            "Epoch 110/500\n",
            "Epoch 111/500\n",
            "Epoch 112/500\n",
            "Epoch 113/500\n",
            "Epoch 114/500\n",
            "Epoch 115/500\n",
            "Epoch 116/500\n",
            "Epoch 117/500\n",
            "Epoch 118/500\n",
            "Epoch 119/500\n",
            "Epoch 120/500\n",
            "Epoch 121/500\n",
            "Epoch 122/500\n",
            "Epoch 123/500\n",
            "Epoch 124/500\n",
            "Epoch 125/500\n",
            "Epoch 126/500\n",
            "Epoch 127/500\n",
            "Epoch 128/500\n",
            "Epoch 129/500\n",
            "Epoch 130/500\n",
            "Epoch 131/500\n",
            "Epoch 132/500\n",
            "Epoch 133/500\n",
            "Epoch 134/500\n",
            "Epoch 135/500\n",
            "Epoch 136/500\n",
            "Epoch 137/500\n",
            "Epoch 138/500\n",
            "Epoch 139/500\n",
            "Epoch 140/500\n",
            "Epoch 141/500\n",
            "Epoch 142/500\n",
            "Epoch 143/500\n",
            "Epoch 144/500\n",
            "Epoch 145/500\n",
            "Epoch 146/500\n",
            "Epoch 147/500\n",
            "Epoch 148/500\n",
            "Epoch 149/500\n",
            "Epoch 150/500\n",
            "Epoch 151/500\n",
            "Epoch 152/500\n",
            "Epoch 153/500\n",
            "Epoch 154/500\n",
            "Epoch 155/500\n",
            "Epoch 156/500\n",
            "Epoch 157/500\n",
            "Epoch 158/500\n",
            "Epoch 159/500\n",
            "Epoch 160/500\n",
            "Epoch 161/500\n",
            "Epoch 162/500\n",
            "Epoch 163/500\n",
            "Epoch 164/500\n",
            "Epoch 165/500\n",
            "Epoch 166/500\n",
            "Epoch 167/500\n",
            "Epoch 168/500\n",
            "Epoch 169/500\n",
            "Epoch 170/500\n",
            "Epoch 171/500\n",
            "Epoch 172/500\n",
            "Epoch 173/500\n",
            "Epoch 174/500\n",
            "Epoch 175/500\n",
            "Epoch 176/500\n",
            "Epoch 177/500\n",
            "Epoch 178/500\n",
            "Epoch 179/500\n",
            "Epoch 180/500\n",
            "Epoch 181/500\n",
            "Epoch 182/500\n",
            "Epoch 183/500\n",
            "Epoch 184/500\n",
            "Epoch 185/500\n",
            "Epoch 186/500\n",
            "Epoch 187/500\n",
            "Epoch 188/500\n",
            "Epoch 189/500\n",
            "Epoch 190/500\n",
            "Epoch 191/500\n",
            "Epoch 192/500\n",
            "Epoch 193/500\n",
            "Epoch 194/500\n",
            "Epoch 195/500\n",
            "Epoch 196/500\n",
            "Epoch 197/500\n",
            "Epoch 198/500\n",
            "Epoch 199/500\n",
            "Epoch 200/500\n",
            "Epoch 201/500\n",
            "Epoch 202/500\n",
            "Epoch 203/500\n",
            "Epoch 204/500\n",
            "Epoch 205/500\n",
            "Epoch 206/500\n",
            "Epoch 207/500\n",
            "Epoch 208/500\n",
            "Epoch 209/500\n",
            "Epoch 210/500\n",
            "Epoch 211/500\n",
            "Epoch 212/500\n",
            "Epoch 213/500\n",
            "Epoch 214/500\n",
            "Epoch 215/500\n",
            "Epoch 216/500\n",
            "Epoch 217/500\n",
            "Epoch 218/500\n",
            "Epoch 219/500\n",
            "Epoch 220/500\n",
            "Epoch 221/500\n",
            "Epoch 222/500\n",
            "Epoch 223/500\n",
            "Epoch 224/500\n",
            "Epoch 225/500\n",
            "Epoch 226/500\n",
            "Epoch 227/500\n",
            "Epoch 228/500\n",
            "Epoch 229/500\n",
            "Epoch 230/500\n",
            "Epoch 231/500\n",
            "Epoch 232/500\n",
            "Epoch 233/500\n",
            "Epoch 234/500\n",
            "Epoch 235/500\n",
            "Epoch 236/500\n",
            "Epoch 237/500\n",
            "Epoch 238/500\n",
            "Epoch 239/500\n",
            "Epoch 240/500\n",
            "Epoch 241/500\n",
            "Epoch 242/500\n",
            "Epoch 243/500\n",
            "Epoch 244/500\n",
            "Epoch 245/500\n",
            "Epoch 246/500\n",
            "Epoch 247/500\n",
            "Epoch 248/500\n",
            "Epoch 249/500\n",
            "Epoch 250/500\n",
            "Epoch 251/500\n",
            "Epoch 252/500\n",
            "Epoch 253/500\n",
            "Epoch 254/500\n",
            "Epoch 255/500\n",
            "Epoch 256/500\n",
            "Epoch 257/500\n",
            "Epoch 258/500\n",
            "Epoch 259/500\n",
            "Epoch 260/500\n",
            "Epoch 261/500\n",
            "Epoch 262/500\n",
            "Epoch 263/500\n",
            "Epoch 264/500\n",
            "Epoch 265/500\n",
            "Epoch 266/500\n",
            "Epoch 267/500\n",
            "Epoch 268/500\n",
            "Epoch 269/500\n",
            "Epoch 270/500\n",
            "Epoch 271/500\n",
            "Epoch 272/500\n",
            "Epoch 273/500\n",
            "Epoch 274/500\n",
            "Epoch 275/500\n",
            "Epoch 276/500\n",
            "Epoch 277/500\n",
            "Epoch 278/500\n",
            "Epoch 279/500\n",
            "Epoch 280/500\n",
            "Epoch 281/500\n",
            "Epoch 282/500\n",
            "Epoch 283/500\n",
            "Epoch 284/500\n",
            "Epoch 285/500\n",
            "Epoch 286/500\n",
            "Epoch 287/500\n",
            "Epoch 288/500\n",
            "Epoch 289/500\n",
            "Epoch 290/500\n",
            "Epoch 291/500\n",
            "Epoch 292/500\n",
            "Epoch 293/500\n",
            "Epoch 294/500\n",
            "Epoch 295/500\n",
            "Epoch 296/500\n",
            "Epoch 297/500\n",
            "Epoch 298/500\n",
            "Epoch 299/500\n",
            "Epoch 300/500\n",
            "Epoch 301/500\n",
            "Epoch 302/500\n",
            "Epoch 303/500\n",
            "Epoch 304/500\n",
            "Epoch 305/500\n",
            "Epoch 306/500\n",
            "Epoch 307/500\n",
            "Epoch 308/500\n",
            "Epoch 309/500\n",
            "Epoch 310/500\n",
            "Epoch 311/500\n",
            "Epoch 312/500\n",
            "Epoch 313/500\n",
            "Epoch 314/500\n",
            "Epoch 315/500\n",
            "Epoch 316/500\n",
            "Epoch 317/500\n",
            "Epoch 318/500\n",
            "Epoch 319/500\n",
            "Epoch 320/500\n",
            "Epoch 321/500\n",
            "Epoch 322/500\n",
            "Epoch 323/500\n",
            "Epoch 324/500\n",
            "Epoch 325/500\n",
            "Epoch 326/500\n",
            "Epoch 327/500\n",
            "Epoch 328/500\n",
            "Epoch 329/500\n",
            "Epoch 330/500\n",
            "Epoch 331/500\n",
            "Epoch 332/500\n",
            "Epoch 333/500\n",
            "Epoch 334/500\n",
            "Epoch 335/500\n",
            "Epoch 336/500\n",
            "Epoch 337/500\n",
            "Epoch 338/500\n",
            "Epoch 339/500\n",
            "Epoch 340/500\n",
            "Epoch 341/500\n",
            "Epoch 342/500\n",
            "Epoch 343/500\n",
            "Epoch 344/500\n",
            "Epoch 345/500\n",
            "Epoch 346/500\n",
            "Epoch 347/500\n",
            "Epoch 348/500\n",
            "Epoch 349/500\n",
            "Epoch 350/500\n",
            "Epoch 351/500\n",
            "Epoch 352/500\n",
            "Epoch 353/500\n",
            "Epoch 354/500\n",
            "Epoch 355/500\n",
            "Epoch 356/500\n",
            "Epoch 357/500\n",
            "Epoch 358/500\n",
            "Epoch 359/500\n",
            "Epoch 360/500\n",
            "Epoch 361/500\n",
            "Epoch 362/500\n",
            "Epoch 363/500\n",
            "Epoch 364/500\n",
            "Epoch 365/500\n",
            "Epoch 366/500\n",
            "Epoch 367/500\n",
            "Epoch 368/500\n",
            "Epoch 369/500\n",
            "Epoch 370/500\n",
            "Epoch 371/500\n",
            "Epoch 372/500\n",
            "Epoch 373/500\n",
            "Epoch 374/500\n",
            "Epoch 375/500\n",
            "Epoch 376/500\n",
            "Epoch 377/500\n",
            "Epoch 378/500\n",
            "Epoch 379/500\n",
            "Epoch 380/500\n",
            "Epoch 381/500\n",
            "Epoch 382/500\n",
            "Epoch 383/500\n",
            "Epoch 384/500\n",
            "Epoch 385/500\n",
            "Epoch 386/500\n",
            "Epoch 387/500\n",
            "Epoch 388/500\n",
            "Epoch 389/500\n",
            "Epoch 390/500\n",
            "Epoch 391/500\n",
            "Epoch 392/500\n",
            "Epoch 393/500\n",
            "Epoch 394/500\n",
            "Epoch 395/500\n",
            "Epoch 396/500\n",
            "Epoch 397/500\n",
            "Epoch 398/500\n",
            "Epoch 399/500\n",
            "Epoch 400/500\n",
            "Epoch 401/500\n",
            "Epoch 402/500\n",
            "Epoch 403/500\n",
            "Epoch 404/500\n",
            "Epoch 405/500\n",
            "Epoch 406/500\n",
            "Epoch 407/500\n",
            "Epoch 408/500\n",
            "Epoch 409/500\n",
            "Epoch 410/500\n",
            "Epoch 411/500\n",
            "Epoch 412/500\n",
            "Epoch 413/500\n",
            "Epoch 414/500\n",
            "Epoch 415/500\n",
            "Epoch 416/500\n",
            "Epoch 417/500\n",
            "Epoch 418/500\n",
            "Epoch 419/500\n",
            "Epoch 420/500\n",
            "Epoch 421/500\n",
            "Epoch 422/500\n",
            "Epoch 423/500\n",
            "Epoch 424/500\n",
            "Epoch 425/500\n",
            "Epoch 426/500\n",
            "Epoch 427/500\n",
            "Epoch 428/500\n",
            "Epoch 429/500\n",
            "Epoch 430/500\n",
            "Epoch 431/500\n",
            "Epoch 432/500\n",
            "Epoch 433/500\n",
            "Epoch 434/500\n",
            "Epoch 435/500\n",
            "Epoch 436/500\n",
            "Epoch 437/500\n",
            "Epoch 438/500\n",
            "Epoch 439/500\n",
            "Epoch 440/500\n",
            "Epoch 441/500\n",
            "Epoch 442/500\n",
            "Epoch 443/500\n",
            "Epoch 444/500\n",
            "Epoch 445/500\n",
            "Epoch 446/500\n",
            "Epoch 447/500\n",
            "Epoch 448/500\n",
            "Epoch 449/500\n",
            "Epoch 450/500\n",
            "Epoch 451/500\n",
            "Epoch 452/500\n",
            "Epoch 453/500\n",
            "Epoch 454/500\n",
            "Epoch 455/500\n",
            "Epoch 456/500\n",
            "Epoch 457/500\n",
            "Epoch 458/500\n",
            "Epoch 459/500\n",
            "Epoch 460/500\n",
            "Epoch 461/500\n",
            "Epoch 462/500\n",
            "Epoch 463/500\n",
            "Epoch 464/500\n",
            "Epoch 465/500\n",
            "Epoch 466/500\n",
            "Epoch 467/500\n",
            "Epoch 468/500\n",
            "Epoch 469/500\n",
            "Epoch 470/500\n",
            "Epoch 471/500\n",
            "Epoch 472/500\n",
            "Epoch 473/500\n",
            "Epoch 474/500\n",
            "Epoch 475/500\n",
            "Epoch 476/500\n",
            "Epoch 477/500\n",
            "Epoch 478/500\n",
            "Epoch 479/500\n",
            "Epoch 480/500\n",
            "Epoch 481/500\n",
            "Epoch 482/500\n",
            "Epoch 483/500\n",
            "Epoch 484/500\n",
            "Epoch 485/500\n",
            "Epoch 486/500\n",
            "Epoch 487/500\n",
            "Epoch 488/500\n",
            "Epoch 489/500\n",
            "Epoch 490/500\n",
            "Epoch 491/500\n",
            "Epoch 492/500\n",
            "Epoch 493/500\n",
            "Epoch 494/500\n",
            "Epoch 495/500\n",
            "Epoch 496/500\n",
            "Epoch 497/500\n",
            "Epoch 498/500\n",
            "Epoch 499/500\n",
            "Epoch 500/500\n"
          ]
        }
      ]
    },
    {
      "cell_type": "code",
      "metadata": {
        "colab": {
          "base_uri": "https://localhost:8080/"
        },
        "id": "MYN24v1v6IqY",
        "outputId": "3f71f5d2-1c97-47ac-d520-596aa4332677"
      },
      "source": [
        "model.evaluate(x_test, y_test)"
      ],
      "execution_count": 37,
      "outputs": [
        {
          "output_type": "stream",
          "name": "stdout",
          "text": [
            "4/4 [==============================] - 0s 4ms/step - loss: 1293.1171\n"
          ]
        },
        {
          "output_type": "execute_result",
          "data": {
            "text/plain": [
              "1293.1170654296875"
            ]
          },
          "metadata": {},
          "execution_count": 37
        }
      ]
    },
    {
      "cell_type": "code",
      "metadata": {
        "colab": {
          "base_uri": "https://localhost:8080/",
          "height": 265
        },
        "id": "4kEXaD4H6cFe",
        "outputId": "6f834c2a-8779-4a39-c817-e9d70228beb6"
      },
      "source": [
        "import matplotlib.pyplot as plt\n",
        "\n",
        "plt.plot(result.history['loss'])#[10:])\n",
        "plt.plot(result.history['val_loss'])#[10:])\n",
        "plt.legend(['loss', 'val_loss'])\n",
        "plt.show()"
      ],
      "execution_count": 39,
      "outputs": [
        {
          "output_type": "display_data",
          "data": {
            "image/png": "[encoded data removed]",
            "text/plain": [
              "<Figure size 432x288 with 1 Axes>"
            ]
          },
          "metadata": {
            "needs_background": "light"
          }
        }
      ]
    },
    {
      "cell_type": "code",
      "metadata": {
        "id": "DzQwwWZhPgmd"
      },
      "source": [
        "tf.keras.activations.gelu()"
      ],
      "execution_count": null,
      "outputs": []
    }
  ]
}